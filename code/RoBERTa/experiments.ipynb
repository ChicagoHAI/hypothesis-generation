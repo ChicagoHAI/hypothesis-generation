{
 "cells": [
  {
   "cell_type": "code",
   "execution_count": 95,
   "metadata": {},
   "outputs": [],
   "source": [
    "import torch\n",
    "import torch.nn as nn\n",
    "from datasets import load_dataset\n",
    "from datasets import Dataset\n",
    "from transformers import (\n",
    "    RobertaTokenizerFast,\n",
    "    RobertaForSequenceClassification,\n",
    "    TrainingArguments,\n",
    "    Trainer,\n",
    "    AutoConfig,\n",
    ")\n",
    "import numpy as np\n",
    "from huggingface_hub import HfFolder, notebook_login\n",
    "import sys\n",
    "\n",
    "import os\n",
    "os.environ[\"CODE_REPO_PATH\"]=\"/home/haokunliu/past-interaction-learning\"\n",
    "\n",
    "code_repo_path = os.environ.get(\"CODE_REPO_PATH\")\n",
    "sys.path.append(f'{code_repo_path}/code')\n",
    "import matplotlib.pyplot as plt\n"
   ]
  },
  {
   "cell_type": "code",
   "execution_count": 47,
   "metadata": {},
   "outputs": [
    {
     "name": "stdout",
     "output_type": "stream",
     "text": [
      "The autoreload extension is already loaded. To reload it, use:\n",
      "  %reload_ext autoreload\n"
     ]
    }
   ],
   "source": [
    "%load_ext autoreload\n",
    "%autoreload 2\n",
    "from data_loader import get_data\n",
    "from dicts import LABEL_DICT, PROMPT_NAME_DICT, reverse_dict\n",
    "from RoBERTa_trainer import prepare_trainer"
   ]
  },
  {
   "cell_type": "code",
   "execution_count": 109,
   "metadata": {},
   "outputs": [],
   "source": [
    "train_sizes = [1000]\n",
    "SEEDS = [49]"
   ]
  },
  {
   "cell_type": "code",
   "execution_count": 110,
   "metadata": {},
   "outputs": [],
   "source": [
    "args = {\n",
    "    'num_train_epochs':20,\n",
    "    'per_device_train_batch_size':32,\n",
    "    'per_device_eval_batch_size':32,\n",
    "    'learning_rate':5e-5,\n",
    "    'weight_decay':0.01,\n",
    "    'warmup_steps':500,\n",
    "    'logging_strategy':\"steps\",\n",
    "    'logging_steps':10,\n",
    "    'evaluation_strategy':\"epoch\",\n",
    "    'save_strategy':\"epoch\",\n",
    "    'save_total_limit':2,\n",
    "    'load_best_model_at_end':True,\n",
    "    'output_dir':\"/net/scratch/haokunliu/outputs\",\n",
    "    'use_ood_reviews':\"all\"\n",
    "}"
   ]
  },
  {
   "cell_type": "code",
   "execution_count": 111,
   "metadata": {},
   "outputs": [],
   "source": [
    "TASK = 'hotel_reviews'"
   ]
  },
  {
   "cell_type": "code",
   "execution_count": 112,
   "metadata": {},
   "outputs": [
    {
     "name": "stdout",
     "output_type": "stream",
     "text": [
      "Setting seed to 49\n"
     ]
    },
    {
     "name": "stderr",
     "output_type": "stream",
     "text": [
      "Some weights of RobertaForSequenceClassification were not initialized from the model checkpoint at roberta-base and are newly initialized: ['classifier.dense.bias', 'classifier.dense.weight', 'classifier.out_proj.bias', 'classifier.out_proj.weight']\n",
      "You should probably TRAIN this model on a down-stream task to be able to use it for predictions and inference.\n"
     ]
    },
    {
     "name": "stdout",
     "output_type": "stream",
     "text": [
      "task_name: hotel_reviews\n",
      "Loading all OOD hotel reviews.\n"
     ]
    },
    {
     "data": {
      "application/vnd.jupyter.widget-view+json": {
       "model_id": "7a68988eafe94ddf8535384137448b09",
       "version_major": 2,
       "version_minor": 0
      },
      "text/plain": [
       "Map:   0%|          | 0/800 [00:00<?, ? examples/s]"
      ]
     },
     "metadata": {},
     "output_type": "display_data"
    },
    {
     "data": {
      "application/vnd.jupyter.widget-view+json": {
       "model_id": "44790f0db76b49f1b1ba0737ed072d02",
       "version_major": 2,
       "version_minor": 0
      },
      "text/plain": [
       "Map:   0%|          | 0/300 [00:00<?, ? examples/s]"
      ]
     },
     "metadata": {},
     "output_type": "display_data"
    },
    {
     "data": {
      "application/vnd.jupyter.widget-view+json": {
       "model_id": "6f364e7109c141c090d13d3a725051a7",
       "version_major": 2,
       "version_minor": 0
      },
      "text/plain": [
       "Map:   0%|          | 0/300 [00:00<?, ? examples/s]"
      ]
     },
     "metadata": {},
     "output_type": "display_data"
    },
    {
     "data": {
      "text/html": [
       "\n",
       "    <div>\n",
       "      \n",
       "      <progress value='500' max='500' style='width:300px; height:20px; vertical-align: middle;'></progress>\n",
       "      [500/500 09:47, Epoch 20/20]\n",
       "    </div>\n",
       "    <table border=\"1\" class=\"dataframe\">\n",
       "  <thead>\n",
       " <tr style=\"text-align: left;\">\n",
       "      <th>Epoch</th>\n",
       "      <th>Training Loss</th>\n",
       "      <th>Validation Loss</th>\n",
       "      <th>Accuracy</th>\n",
       "    </tr>\n",
       "  </thead>\n",
       "  <tbody>\n",
       "    <tr>\n",
       "      <td>1</td>\n",
       "      <td>0.691000</td>\n",
       "      <td>0.693039</td>\n",
       "      <td>0.500000</td>\n",
       "    </tr>\n",
       "    <tr>\n",
       "      <td>2</td>\n",
       "      <td>0.692800</td>\n",
       "      <td>0.688943</td>\n",
       "      <td>0.500000</td>\n",
       "    </tr>\n",
       "    <tr>\n",
       "      <td>3</td>\n",
       "      <td>0.688300</td>\n",
       "      <td>0.657952</td>\n",
       "      <td>0.700000</td>\n",
       "    </tr>\n",
       "    <tr>\n",
       "      <td>4</td>\n",
       "      <td>0.473200</td>\n",
       "      <td>0.430357</td>\n",
       "      <td>0.806667</td>\n",
       "    </tr>\n",
       "    <tr>\n",
       "      <td>5</td>\n",
       "      <td>0.287900</td>\n",
       "      <td>0.735500</td>\n",
       "      <td>0.746667</td>\n",
       "    </tr>\n",
       "    <tr>\n",
       "      <td>6</td>\n",
       "      <td>0.178300</td>\n",
       "      <td>0.304130</td>\n",
       "      <td>0.896667</td>\n",
       "    </tr>\n",
       "    <tr>\n",
       "      <td>7</td>\n",
       "      <td>0.144500</td>\n",
       "      <td>0.283222</td>\n",
       "      <td>0.910000</td>\n",
       "    </tr>\n",
       "    <tr>\n",
       "      <td>8</td>\n",
       "      <td>0.144800</td>\n",
       "      <td>0.671071</td>\n",
       "      <td>0.810000</td>\n",
       "    </tr>\n",
       "    <tr>\n",
       "      <td>9</td>\n",
       "      <td>0.117400</td>\n",
       "      <td>0.636937</td>\n",
       "      <td>0.863333</td>\n",
       "    </tr>\n",
       "    <tr>\n",
       "      <td>10</td>\n",
       "      <td>0.130000</td>\n",
       "      <td>0.542364</td>\n",
       "      <td>0.890000</td>\n",
       "    </tr>\n",
       "    <tr>\n",
       "      <td>11</td>\n",
       "      <td>0.051400</td>\n",
       "      <td>1.528475</td>\n",
       "      <td>0.773333</td>\n",
       "    </tr>\n",
       "    <tr>\n",
       "      <td>12</td>\n",
       "      <td>0.123600</td>\n",
       "      <td>0.740597</td>\n",
       "      <td>0.890000</td>\n",
       "    </tr>\n",
       "    <tr>\n",
       "      <td>13</td>\n",
       "      <td>0.001000</td>\n",
       "      <td>1.245741</td>\n",
       "      <td>0.826667</td>\n",
       "    </tr>\n",
       "    <tr>\n",
       "      <td>14</td>\n",
       "      <td>0.021900</td>\n",
       "      <td>0.871661</td>\n",
       "      <td>0.866667</td>\n",
       "    </tr>\n",
       "    <tr>\n",
       "      <td>15</td>\n",
       "      <td>0.070700</td>\n",
       "      <td>0.961841</td>\n",
       "      <td>0.853333</td>\n",
       "    </tr>\n",
       "    <tr>\n",
       "      <td>16</td>\n",
       "      <td>0.075000</td>\n",
       "      <td>0.558151</td>\n",
       "      <td>0.896667</td>\n",
       "    </tr>\n",
       "    <tr>\n",
       "      <td>17</td>\n",
       "      <td>0.223200</td>\n",
       "      <td>0.877709</td>\n",
       "      <td>0.866667</td>\n",
       "    </tr>\n",
       "    <tr>\n",
       "      <td>18</td>\n",
       "      <td>0.035400</td>\n",
       "      <td>0.616853</td>\n",
       "      <td>0.906667</td>\n",
       "    </tr>\n",
       "    <tr>\n",
       "      <td>19</td>\n",
       "      <td>0.000200</td>\n",
       "      <td>1.109934</td>\n",
       "      <td>0.870000</td>\n",
       "    </tr>\n",
       "    <tr>\n",
       "      <td>20</td>\n",
       "      <td>0.024100</td>\n",
       "      <td>0.740992</td>\n",
       "      <td>0.893333</td>\n",
       "    </tr>\n",
       "  </tbody>\n",
       "</table><p>"
      ],
      "text/plain": [
       "<IPython.core.display.HTML object>"
      ]
     },
     "metadata": {},
     "output_type": "display_data"
    },
    {
     "data": {
      "text/html": [],
      "text/plain": [
       "<IPython.core.display.HTML object>"
      ]
     },
     "metadata": {},
     "output_type": "display_data"
    }
   ],
   "source": [
    "test_accs = []\n",
    "for train_size in train_sizes:\n",
    "    test_acc = 0\n",
    "    for SEED in SEEDS:\n",
    "        trainer, train_dataset, test_dataset, val_dataset = prepare_trainer(model_id=\"roberta-base\",\n",
    "                                                                    task_name=TASK,\n",
    "                                                                    num_train=train_size,\n",
    "                                                                    num_test=300,\n",
    "                                                                    num_val=300,\n",
    "                                                                    seed=SEED,\n",
    "                                                                    **args)\n",
    "        trainer.train()\n",
    "        results = trainer.evaluate(test_dataset)\n",
    "        test_acc += results['eval_accuracy']\n",
    "    \n",
    "    test_acc = test_acc/len(SEEDS)\n",
    "    test_accs.append(test_acc)"
   ]
  },
  {
   "cell_type": "code",
   "execution_count": 113,
   "metadata": {},
   "outputs": [
    {
     "name": "stdout",
     "output_type": "stream",
     "text": [
      "Dataset({\n",
      "    features: ['review', 'label', 'input_ids', 'attention_mask'],\n",
      "    num_rows: 800\n",
      "})\n",
      "Dataset({\n",
      "    features: ['review', 'label', 'input_ids', 'attention_mask'],\n",
      "    num_rows: 300\n",
      "})\n",
      "Dataset({\n",
      "    features: ['review', 'label', 'input_ids', 'attention_mask'],\n",
      "    num_rows: 300\n",
      "})\n"
     ]
    }
   ],
   "source": [
    "print(train_dataset)\n",
    "print(test_dataset)\n",
    "print(val_dataset)"
   ]
  },
  {
   "cell_type": "code",
   "execution_count": 114,
   "metadata": {},
   "outputs": [
    {
     "data": {
      "text/plain": [
       "[0.7966666666666666]"
      ]
     },
     "execution_count": 114,
     "metadata": {},
     "output_type": "execute_result"
    }
   ],
   "source": [
    "test_accs"
   ]
  },
  {
   "cell_type": "code",
   "execution_count": 115,
   "metadata": {},
   "outputs": [],
   "source": [
    "args = {\n",
    "    'num_train_epochs':20,\n",
    "    'per_device_train_batch_size':32,\n",
    "    'per_device_eval_batch_size':32,\n",
    "    'learning_rate':5e-5,\n",
    "    'weight_decay':0.01,\n",
    "    'warmup_steps':500,\n",
    "    'logging_strategy':\"steps\",\n",
    "    'logging_steps':10,\n",
    "    'evaluation_strategy':\"epoch\",\n",
    "    'save_strategy':\"epoch\",\n",
    "    'save_total_limit':2,\n",
    "    'load_best_model_at_end':True,\n",
    "    'output_dir':\"/net/scratch/haokunliu/outputs\",\n",
    "}"
   ]
  },
  {
   "cell_type": "code",
   "execution_count": 116,
   "metadata": {},
   "outputs": [
    {
     "name": "stdout",
     "output_type": "stream",
     "text": [
      "Setting seed to 49\n"
     ]
    },
    {
     "name": "stderr",
     "output_type": "stream",
     "text": [
      "Some weights of RobertaForSequenceClassification were not initialized from the model checkpoint at roberta-base and are newly initialized: ['classifier.dense.bias', 'classifier.dense.weight', 'classifier.out_proj.bias', 'classifier.out_proj.weight']\n",
      "You should probably TRAIN this model on a down-stream task to be able to use it for predictions and inference.\n"
     ]
    },
    {
     "name": "stdout",
     "output_type": "stream",
     "text": [
      "task_name: hotel_reviews\n",
      "Loading all OOD hotel reviews.\n"
     ]
    },
    {
     "data": {
      "application/vnd.jupyter.widget-view+json": {
       "model_id": "feb022847f8849e1b363f951b575f467",
       "version_major": 2,
       "version_minor": 0
      },
      "text/plain": [
       "Map:   0%|          | 0/800 [00:00<?, ? examples/s]"
      ]
     },
     "metadata": {},
     "output_type": "display_data"
    },
    {
     "data": {
      "application/vnd.jupyter.widget-view+json": {
       "model_id": "243020555f694404916f1da2ab44cbf2",
       "version_major": 2,
       "version_minor": 0
      },
      "text/plain": [
       "Map:   0%|          | 0/300 [00:00<?, ? examples/s]"
      ]
     },
     "metadata": {},
     "output_type": "display_data"
    },
    {
     "data": {
      "application/vnd.jupyter.widget-view+json": {
       "model_id": "70d8020b61524aa5bff1626b8daa8664",
       "version_major": 2,
       "version_minor": 0
      },
      "text/plain": [
       "Map:   0%|          | 0/100 [00:00<?, ? examples/s]"
      ]
     },
     "metadata": {},
     "output_type": "display_data"
    },
    {
     "name": "stdout",
     "output_type": "stream",
     "text": [
      "Setting seed to 49\n"
     ]
    },
    {
     "name": "stderr",
     "output_type": "stream",
     "text": [
      "Some weights of RobertaForSequenceClassification were not initialized from the model checkpoint at roberta-base and are newly initialized: ['classifier.dense.bias', 'classifier.dense.weight', 'classifier.out_proj.bias', 'classifier.out_proj.weight']\n",
      "You should probably TRAIN this model on a down-stream task to be able to use it for predictions and inference.\n"
     ]
    },
    {
     "name": "stdout",
     "output_type": "stream",
     "text": [
      "task_name: hotel_reviews\n",
      "Loading Chicago OOD hotel reviews.\n"
     ]
    },
    {
     "data": {
      "application/vnd.jupyter.widget-view+json": {
       "model_id": "5c892f099c834466a3e74444a2614995",
       "version_major": 2,
       "version_minor": 0
      },
      "text/plain": [
       "Map:   0%|          | 0/800 [00:00<?, ? examples/s]"
      ]
     },
     "metadata": {},
     "output_type": "display_data"
    },
    {
     "data": {
      "application/vnd.jupyter.widget-view+json": {
       "model_id": "4fb846867f09485793365fb230bec64c",
       "version_major": 2,
       "version_minor": 0
      },
      "text/plain": [
       "Map:   0%|          | 0/160 [00:00<?, ? examples/s]"
      ]
     },
     "metadata": {},
     "output_type": "display_data"
    },
    {
     "data": {
      "application/vnd.jupyter.widget-view+json": {
       "model_id": "997e3a4474144ba9b2840b2017dff01a",
       "version_major": 2,
       "version_minor": 0
      },
      "text/plain": [
       "Map:   0%|          | 0/100 [00:00<?, ? examples/s]"
      ]
     },
     "metadata": {},
     "output_type": "display_data"
    },
    {
     "name": "stdout",
     "output_type": "stream",
     "text": [
      "Setting seed to 49\n"
     ]
    },
    {
     "name": "stderr",
     "output_type": "stream",
     "text": [
      "Some weights of RobertaForSequenceClassification were not initialized from the model checkpoint at roberta-base and are newly initialized: ['classifier.dense.bias', 'classifier.dense.weight', 'classifier.out_proj.bias', 'classifier.out_proj.weight']\n",
      "You should probably TRAIN this model on a down-stream task to be able to use it for predictions and inference.\n"
     ]
    },
    {
     "name": "stdout",
     "output_type": "stream",
     "text": [
      "task_name: hotel_reviews\n",
      "Loading non-Chicago OOD hotel reviews.\n"
     ]
    },
    {
     "data": {
      "application/vnd.jupyter.widget-view+json": {
       "model_id": "12392c86599b4b9daa53a142f5719f4d",
       "version_major": 2,
       "version_minor": 0
      },
      "text/plain": [
       "Map:   0%|          | 0/800 [00:00<?, ? examples/s]"
      ]
     },
     "metadata": {},
     "output_type": "display_data"
    },
    {
     "data": {
      "application/vnd.jupyter.widget-view+json": {
       "model_id": "697285304ca04c76b33b14fc12e53e89",
       "version_major": 2,
       "version_minor": 0
      },
      "text/plain": [
       "Map:   0%|          | 0/300 [00:00<?, ? examples/s]"
      ]
     },
     "metadata": {},
     "output_type": "display_data"
    },
    {
     "data": {
      "application/vnd.jupyter.widget-view+json": {
       "model_id": "1ad88474a42f4198ad52722f3f68c82c",
       "version_major": 2,
       "version_minor": 0
      },
      "text/plain": [
       "Map:   0%|          | 0/100 [00:00<?, ? examples/s]"
      ]
     },
     "metadata": {},
     "output_type": "display_data"
    },
    {
     "name": "stdout",
     "output_type": "stream",
     "text": [
      "Setting seed to 49\n"
     ]
    },
    {
     "name": "stderr",
     "output_type": "stream",
     "text": [
      "Some weights of RobertaForSequenceClassification were not initialized from the model checkpoint at roberta-base and are newly initialized: ['classifier.dense.bias', 'classifier.dense.weight', 'classifier.out_proj.bias', 'classifier.out_proj.weight']\n",
      "You should probably TRAIN this model on a down-stream task to be able to use it for predictions and inference.\n"
     ]
    },
    {
     "name": "stdout",
     "output_type": "stream",
     "text": [
      "task_name: hotel_reviews\n"
     ]
    },
    {
     "data": {
      "application/vnd.jupyter.widget-view+json": {
       "model_id": "9c47f88889e343a39b9063da0a25587e",
       "version_major": 2,
       "version_minor": 0
      },
      "text/plain": [
       "Map:   0%|          | 0/800 [00:00<?, ? examples/s]"
      ]
     },
     "metadata": {},
     "output_type": "display_data"
    },
    {
     "data": {
      "application/vnd.jupyter.widget-view+json": {
       "model_id": "1548a55590e24fda9645cb63767e01be",
       "version_major": 2,
       "version_minor": 0
      },
      "text/plain": [
       "Map:   0%|          | 0/300 [00:00<?, ? examples/s]"
      ]
     },
     "metadata": {},
     "output_type": "display_data"
    },
    {
     "data": {
      "application/vnd.jupyter.widget-view+json": {
       "model_id": "268a3d48e19a476abec7cac1c793ef2f",
       "version_major": 2,
       "version_minor": 0
      },
      "text/plain": [
       "Map:   0%|          | 0/100 [00:00<?, ? examples/s]"
      ]
     },
     "metadata": {},
     "output_type": "display_data"
    }
   ],
   "source": [
    "_, _, ood_all, _ = prepare_trainer(model_id=\"roberta-base\",\n",
    "                                   task_name='hotel_reviews',\n",
    "                                   num_train=10000,\n",
    "                                   num_test=300,\n",
    "                                   num_val=100,\n",
    "                                   seed=49,\n",
    "                                   use_ood_reviews='all',\n",
    "                                   **args)\n",
    "\n",
    "_, _, ood_chicago, _ = prepare_trainer(model_id=\"roberta-base\",\n",
    "                                       task_name='hotel_reviews',\n",
    "                                       num_train=10000,\n",
    "                                       num_test=300,\n",
    "                                       num_val=100,\n",
    "                                       seed=49,\n",
    "                                       use_ood_reviews='Chicago',\n",
    "                                       **args)\n",
    "\n",
    "_, _, ood_non_chicago, _ = prepare_trainer(model_id=\"roberta-base\",\n",
    "                                           task_name='hotel_reviews',\n",
    "                                           num_train=10000,\n",
    "                                           num_test=300,\n",
    "                                           num_val=100,\n",
    "                                           seed=49,\n",
    "                                           use_ood_reviews='non-Chicago',\n",
    "                                           **args)\n",
    "\n",
    "_, _, our_test_set, _ = prepare_trainer(model_id=\"roberta-base\",\n",
    "                                        task_name='hotel_reviews',\n",
    "                                        num_train=10000,\n",
    "                                        num_test=300,\n",
    "                                        num_val=100,\n",
    "                                        seed=49,\n",
    "                                        use_ood_reviews='None',\n",
    "                                        **args)"
   ]
  },
  {
   "cell_type": "code",
   "execution_count": 117,
   "metadata": {},
   "outputs": [
    {
     "data": {
      "text/html": [],
      "text/plain": [
       "<IPython.core.display.HTML object>"
      ]
     },
     "metadata": {},
     "output_type": "display_data"
    },
    {
     "data": {
      "text/html": [],
      "text/plain": [
       "<IPython.core.display.HTML object>"
      ]
     },
     "metadata": {},
     "output_type": "display_data"
    },
    {
     "data": {
      "text/html": [],
      "text/plain": [
       "<IPython.core.display.HTML object>"
      ]
     },
     "metadata": {},
     "output_type": "display_data"
    }
   ],
   "source": [
    "ood_results_all = trainer.evaluate(ood_all)\n",
    "ood_results_chicago = trainer.evaluate(ood_chicago)\n",
    "ood_results_non_chicago = trainer.evaluate(ood_non_chicago)\n",
    "results_our_test_set = trainer.evaluate(our_test_set)\n",
    "\n",
    "ood_preds_all = trainer.predict(ood_all)\n",
    "ood_preds_chicago = trainer.predict(ood_chicago)\n",
    "ood_preds_non_chicago = trainer.predict(ood_non_chicago)\n",
    "preds_our_test_set = trainer.predict(our_test_set)"
   ]
  },
  {
   "cell_type": "code",
   "execution_count": 118,
   "metadata": {},
   "outputs": [
    {
     "name": "stdout",
     "output_type": "stream",
     "text": [
      "{'eval_loss': 0.6060465574264526, 'eval_accuracy': 0.7966666666666666, 'eval_runtime': 1.8543, 'eval_samples_per_second': 161.786, 'eval_steps_per_second': 5.393, 'epoch': 20.0}\n",
      "{'eval_loss': 0.522203803062439, 'eval_accuracy': 0.79375, 'eval_runtime': 1.312, 'eval_samples_per_second': 121.95, 'eval_steps_per_second': 3.811, 'epoch': 20.0}\n",
      "{'eval_loss': 0.6615473031997681, 'eval_accuracy': 0.7933333333333333, 'eval_runtime': 2.1341, 'eval_samples_per_second': 140.575, 'eval_steps_per_second': 4.686, 'epoch': 20.0}\n",
      "{'eval_loss': 0.24553726613521576, 'eval_accuracy': 0.9033333333333333, 'eval_runtime': 2.3908, 'eval_samples_per_second': 125.482, 'eval_steps_per_second': 4.183, 'epoch': 20.0}\n"
     ]
    }
   ],
   "source": [
    "print(ood_results_all)\n",
    "print(ood_results_chicago)\n",
    "print(ood_results_non_chicago)\n",
    "print(results_our_test_set)"
   ]
  },
  {
   "cell_type": "code",
   "execution_count": 119,
   "metadata": {},
   "outputs": [
    {
     "name": "stdout",
     "output_type": "stream",
     "text": [
      "0.7966666666666666\n"
     ]
    }
   ],
   "source": [
    "preds = np.argmax(ood_preds_all[0],axis=1)\n",
    "ct = 0\n",
    "for i in range(300):\n",
    "    if preds[i] == ood_all['label'][i]:\n",
    "        ct += 1\n",
    "print(ct/300)"
   ]
  },
  {
   "cell_type": "code",
   "execution_count": 120,
   "metadata": {},
   "outputs": [],
   "source": [
    "preds_label = []\n",
    "for i in range(300):\n",
    "    if preds[i] == 0:\n",
    "        preds_label.append('deceptive')\n",
    "    else:\n",
    "        preds_label.append('truthful')\n"
   ]
  },
  {
   "cell_type": "code",
   "execution_count": 121,
   "metadata": {},
   "outputs": [],
   "source": [
    "import json\n",
    "\n",
    "with open(f'{code_repo_path}/outputs/hotel_reviews/RoBERTa/train_{train_size}_preds.json', 'w') as f:\n",
    "    json.dump(preds_label, f)"
   ]
  },
  {
   "cell_type": "code",
   "execution_count": 67,
   "metadata": {},
   "outputs": [
    {
     "name": "stdout",
     "output_type": "stream",
     "text": [
      "0.47\n"
     ]
    }
   ],
   "source": [
    "results = trainer.evaluate(val_dataset)\n",
    "print(results['eval_accuracy'])"
   ]
  },
  {
   "cell_type": "code",
   "execution_count": 68,
   "metadata": {},
   "outputs": [],
   "source": [
    "results = trainer.evaluate(test_dataset)"
   ]
  },
  {
   "cell_type": "code",
   "execution_count": 69,
   "metadata": {},
   "outputs": [
    {
     "data": {
      "text/plain": [
       "0.47"
      ]
     },
     "execution_count": 69,
     "metadata": {},
     "output_type": "execute_result"
    }
   ],
   "source": [
    "results['eval_accuracy']"
   ]
  },
  {
   "cell_type": "code",
   "execution_count": null,
   "metadata": {},
   "outputs": [],
   "source": []
  }
 ],
 "metadata": {
  "kernelspec": {
   "display_name": "LLMs-new",
   "language": "python",
   "name": "python3"
  },
  "language_info": {
   "codemirror_mode": {
    "name": "ipython",
    "version": 3
   },
   "file_extension": ".py",
   "mimetype": "text/x-python",
   "name": "python",
   "nbconvert_exporter": "python",
   "pygments_lexer": "ipython3",
   "version": "3.12.1"
  },
  "vscode": {
   "interpreter": {
    "hash": "4bb943b27073082036663df0cc8d44f5ebc2d392f87079f441eb18715fd51cb4"
   }
  }
 },
 "nbformat": 4,
 "nbformat_minor": 2
}
