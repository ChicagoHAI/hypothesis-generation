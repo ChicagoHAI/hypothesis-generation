{
 "cells": [
  {
   "cell_type": "code",
   "execution_count": 95,
   "metadata": {},
   "outputs": [],
   "source": [
    "import sys\n",
    "import os\n",
    "\n",
    "# Make sure you have set the CODE_REPO_PATH environment variable\n",
    "code_repo_path = os.environ.get(\"CODE_REPO_PATH\")\n",
    "sys.path.append(f'{code_repo_path}/code')\n",
    "import matplotlib.pyplot as plt\n"
   ]
  },
  {
   "cell_type": "code",
   "execution_count": null,
   "metadata": {},
   "outputs": [],
   "source": [
    "%load_ext autoreload\n",
    "%autoreload 2\n",
    "from RoBERTa_trainer import prepare_trainer"
   ]
  },
  {
   "cell_type": "markdown",
   "metadata": {},
   "source": [
    "## Set training size, random seed, and training arguments"
   ]
  },
  {
   "cell_type": "code",
   "execution_count": 109,
   "metadata": {},
   "outputs": [],
   "source": [
    "train_sizes = [1000]\n",
    "SEEDS = [49]"
   ]
  },
  {
   "cell_type": "code",
   "execution_count": 110,
   "metadata": {},
   "outputs": [],
   "source": [
    "args = {\n",
    "    'num_train_epochs':20,\n",
    "    'per_device_train_batch_size':32,\n",
    "    'per_device_eval_batch_size':32,\n",
    "    'learning_rate':5e-5,\n",
    "    'weight_decay':0.01,\n",
    "    'warmup_steps':500,\n",
    "    'logging_strategy':\"steps\",\n",
    "    'logging_steps':10,\n",
    "    'evaluation_strategy':\"epoch\",\n",
    "    'save_strategy':\"epoch\",\n",
    "    'save_total_limit':2,\n",
    "    'load_best_model_at_end':True,\n",
    "    'output_dir':\"/net/scratch/haokunliu/outputs\",\n",
    "    'use_ood_reviews':\"all\"\n",
    "}"
   ]
  },
  {
   "cell_type": "markdown",
   "metadata": {},
   "source": [
    "## Set task"
   ]
  },
  {
   "cell_type": "code",
   "execution_count": 111,
   "metadata": {},
   "outputs": [],
   "source": [
    "TASK = 'hotel_reviews'"
   ]
  },
  {
   "cell_type": "markdown",
   "metadata": {},
   "source": [
    "## Train and evaluate RoBERTa"
   ]
  },
  {
   "cell_type": "code",
   "execution_count": null,
   "metadata": {},
   "outputs": [],
   "source": [
    "test_accs = []\n",
    "for train_size in train_sizes:\n",
    "    test_acc = 0\n",
    "    for SEED in SEEDS:\n",
    "        trainer, train_dataset, test_dataset, val_dataset = prepare_trainer(model_id=\"roberta-base\",\n",
    "                                                                    task_name=TASK,\n",
    "                                                                    num_train=train_size,\n",
    "                                                                    num_test=300,\n",
    "                                                                    num_val=300,\n",
    "                                                                    seed=SEED,\n",
    "                                                                    **args)\n",
    "        trainer.train()\n",
    "        results = trainer.evaluate(test_dataset)\n",
    "        test_acc += results['eval_accuracy']\n",
    "    \n",
    "    test_acc = test_acc/len(SEEDS)\n",
    "    test_accs.append(test_acc)"
   ]
  },
  {
   "cell_type": "code",
   "execution_count": null,
   "metadata": {},
   "outputs": [],
   "source": [
    "print(train_dataset)\n",
    "print(test_dataset)\n",
    "print(val_dataset)"
   ]
  },
  {
   "cell_type": "code",
   "execution_count": 114,
   "metadata": {},
   "outputs": [
    {
     "data": {
      "text/plain": [
       "[0.7966666666666666]"
      ]
     },
     "execution_count": 114,
     "metadata": {},
     "output_type": "execute_result"
    }
   ],
   "source": [
    "test_accs"
   ]
  }
 ],
 "metadata": {
  "kernelspec": {
   "display_name": "LLMs-new",
   "language": "python",
   "name": "python3"
  },
  "language_info": {
   "codemirror_mode": {
    "name": "ipython",
    "version": 3
   },
   "file_extension": ".py",
   "mimetype": "text/x-python",
   "name": "python",
   "nbconvert_exporter": "python",
   "pygments_lexer": "ipython3",
   "version": "3.12.1"
  },
  "vscode": {
   "interpreter": {
    "hash": "4bb943b27073082036663df0cc8d44f5ebc2d392f87079f441eb18715fd51cb4"
   }
  }
 },
 "nbformat": 4,
 "nbformat_minor": 2
}
