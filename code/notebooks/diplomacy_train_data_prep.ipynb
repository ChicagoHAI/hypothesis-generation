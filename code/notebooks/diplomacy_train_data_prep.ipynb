{
 "cells": [
  {
   "cell_type": "code",
   "execution_count": null,
   "metadata": {},
   "outputs": [],
   "source": [
    "import sys\n",
    "sys.path.append('/data/rosa/work_in_progress/past-interaction-learning/code')\n",
    "from diplomacy_data_utils import *"
   ]
  },
  {
   "cell_type": "code",
   "execution_count": null,
   "metadata": {},
   "outputs": [],
   "source": [
    "# read data and print some stats\n",
    "data_path = '/data/rosa/git_star/2020_acl_diplomacy/data/train.jsonl'\n",
    "data = pd.read_json(data_path, lines=True)\n",
    "\n",
    "print(f'Number of dialogues: {len(data)}')\n",
    "print(f'Columns: {data.columns}')\n",
    "print(f'Number of unique game ids: {len(data.game_id.unique())}')\n",
    "print(f\"All unique game ids: {data.game_id.unique()}\")\n",
    "print(f\"Number of dialogues with game id = 1: {len(data[data.game_id == 1])}\")\n",
    "print(f\"Number of dialogues with game id = 2: {len(data[data.game_id == 2])}\")\n",
    "\n",
    "print(f\"Number of dialogues with game id = 2: {len(data[data.game_id == 3])}\")"
   ]
  },
  {
   "cell_type": "code",
   "execution_count": null,
   "metadata": {},
   "outputs": [],
   "source": [
    "# export dialogues with game id = 1 and 2 to jsonl file separately\n",
    "# train:\n",
    "data[data.game_id == 1].to_json('/data/rosa/work_in_progress/past-interaction-learning/data/diplomacy_train_game_id_1.jsonl', orient='records', lines=True)\n",
    "# test:\n",
    "data[data.game_id == 2].to_json('/data/rosa/work_in_progress/past-interaction-learning/data/diplomacy_test_game_id_2.jsonl', orient='records', lines=True)\n",
    "data[data.game_id == 3].to_json('/data/rosa/work_in_progress/past-interaction-learning/data/diplomacy_test_game_id_3.jsonl', orient='records', lines=True)"
   ]
  },
  {
   "cell_type": "code",
   "execution_count": null,
   "metadata": {},
   "outputs": [],
   "source": [
    "# change country names to character names\n",
    "df_game_id_1 = pd.read_json('/data/rosa/work_in_progress/past-interaction-learning/data/diplomacy_train_game_id_1.jsonl', lines=True)\n",
    "df_game_id_2 = pd.read_json('/data/rosa/work_in_progress/past-interaction-learning/data/diplomacy_test_game_id_2.jsonl', lines=True)\n",
    "df_game_id_3 = pd.read_json('/data/rosa/work_in_progress/past-interaction-learning/data/diplomacy_test_game_id_3.jsonl', lines=True)\n",
    "\n",
    "change_country_names(df_game_id_1, '/data/rosa/work_in_progress/past-interaction-learning/data/diplomacy_train_game_id_1_swnames.jsonl')\n",
    "change_country_names(df_game_id_2, '/data/rosa/work_in_progress/past-interaction-learning/data/diplomacy_test_game_id_2_swnames.jsonl')\n",
    "change_country_names(df_game_id_3, '/data/rosa/work_in_progress/past-interaction-learning/data/diplomacy_test_game_id_3_swnames.jsonl')"
   ]
  },
  {
   "cell_type": "code",
   "execution_count": null,
   "metadata": {},
   "outputs": [],
   "source": [
    "game_df_operations('/data/rosa/work_in_progress/past-interaction-learning/data/diplomacy_train_game_id_1.jsonl')\n",
    "game_df_operations('/data/rosa/work_in_progress/past-interaction-learning/data/diplomacy_train_game_id_1_swnames.jsonl')"
   ]
  },
  {
   "cell_type": "code",
   "execution_count": null,
   "metadata": {},
   "outputs": [],
   "source": [
    "truthful_df, deceptive_df = read_data_by_labels('/data/rosa/work_in_progress/past-interaction-learning/data/diplomacy_train_game_id_1.jsonl', game_id=1)\n",
    "truthful_df_swnames, deceptive_df_swnames = read_data_by_labels('/data/rosa/work_in_progress/past-interaction-learning/data/diplomacy_train_game_id_1_swnames.jsonl', game_id=1)"
   ]
  },
  {
   "cell_type": "code",
   "execution_count": null,
   "metadata": {},
   "outputs": [],
   "source": [
    "# Sample 231 truthful messages and 219 deceptive messages\n",
    "truthful_sampled, deceptive_sampled = sample_messages(truthful_df, deceptive_df, 231, 219)\n",
    "truthful_sampled_swnames, deceptive_sampled_swnames = sample_messages(truthful_df_swnames, deceptive_df_swnames, 231, 219)"
   ]
  },
  {
   "cell_type": "code",
   "execution_count": null,
   "metadata": {},
   "outputs": [],
   "source": [
    "# combine the two dfs and save to output\n",
    "combine_labels_and_save(truthful_sampled, deceptive_sampled, '/data/rosa/work_in_progress/past-interaction-learning/data/diplomacy_game1_train_balance_class.jsonl')\n",
    "combine_labels_and_save(truthful_sampled_swnames, deceptive_sampled_swnames, '/data/rosa/work_in_progress/past-interaction-learning/data/diplomacy_game1_train_balance_class_swnames.jsonl')"
   ]
  }
 ],
 "metadata": {
  "kernelspec": {
   "display_name": "Python 3",
   "language": "python",
   "name": "python3"
  },
  "language_info": {
   "codemirror_mode": {
    "name": "ipython",
    "version": 3
   },
   "file_extension": ".py",
   "mimetype": "text/x-python",
   "name": "python",
   "nbconvert_exporter": "python",
   "pygments_lexer": "ipython3",
   "version": "3.7.15"
  },
  "orig_nbformat": 4
 },
 "nbformat": 4,
 "nbformat_minor": 2
}
