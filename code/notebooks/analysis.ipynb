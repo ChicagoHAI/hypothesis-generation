{
 "cells": [
  {
   "cell_type": "code",
   "execution_count": 1,
   "metadata": {},
   "outputs": [
    {
     "name": "stdout",
     "output_type": "stream",
     "text": [
      "Environment variable not set.\n",
      "Code repo path: /data/rosa/work_in_progress/past-interaction-learning/\n",
      "Code repo path: /data/rosa/work_in_progress/past-interaction-learning/\n",
      "Code repo path: /data/rosa/work_in_progress/past-interaction-learning/\n",
      "Code repo path: /data/rosa/work_in_progress/past-interaction-learning/\n"
     ]
    }
   ],
   "source": [
    "import sys\n",
    "sys.path.append(\"/data/rosa/work_in_progress/past-interaction-learning/code\")\n",
    "from utils import *\n",
    "\n",
    "from pprint import pprint\n",
    "\n",
    "sys.path.append(\"/data/rosa/work_in_progress/past-interaction-learning/code/experiments\")\n",
    "from hypotheses_generation import SummaryInformation"
   ]
  },
  {
   "cell_type": "markdown",
   "metadata": {},
   "source": [
    "### Print out the hypotheses with high rewards"
   ]
  },
  {
   "cell_type": "code",
   "execution_count": 2,
   "metadata": {},
   "outputs": [],
   "source": [
    "def show_hypotheses_info(path):\n",
    "    with open(path, \"rb\") as f:\n",
    "        hypothesis = pickle.load(f)\n",
    "\n",
    "    # sort the keys by the value[2]\n",
    "    sorted_hypothesis = sorted(hypothesis.items(), key=lambda x: x[1].reward, reverse=True)\n",
    "    # only print the top 10 keys and their value[2]\n",
    "    print(len(sorted_hypothesis))\n",
    "    index=0\n",
    "    for tup in sorted_hypothesis:\n",
    "        # if not tup[1].is_example:\n",
    "            # print(tup[0], tup[1].reward, tup[1].is_example)\n",
    "        index += 1\n",
    "        print(f'*** {index} ***')\n",
    "        print(f'hypothesis: {tup[0]}')\n",
    "        print(f'reward: {tup[1].reward}')\n",
    "        print(f'acc: {tup[1].acc}')\n",
    "        print(f'num_visits: {tup[1].num_visits}')\n",
    "        if index > 5:\n",
    "            break"
   ]
  },
  {
   "cell_type": "code",
   "execution_count": 3,
   "metadata": {},
   "outputs": [
    {
     "name": "stdout",
     "output_type": "stream",
     "text": [
      "5\n",
      "*** 1 ***\n",
      "hypothesis: Customers tend to buy shoes that match the color of their shirt.\n",
      "reward: 1.1794122577994102\n",
      "acc: 1.0\n",
      "num_visits: 25\n",
      "*** 2 ***\n",
      "hypothesis: Customers that dress with more color variation tend to buy shoes that match one of their clothing items.\n",
      "reward: 0.6994122577994102\n",
      "acc: 0.52\n",
      "num_visits: 25\n",
      "*** 3 ***\n",
      "hypothesis: Younger customers tend to buy brighter colored shoes while older customers buy more muted colors.\n",
      "reward: 0.41941225779941016\n",
      "acc: 0.24\n",
      "num_visits: 25\n",
      "*** 4 ***\n",
      "hypothesis: Customers tend to buy shoes that match the color of their largest bag.\n",
      "reward: 0.3794122577994101\n",
      "acc: 0.2\n",
      "num_visits: 25\n",
      "*** 5 ***\n",
      "hypothesis: Customers tend to buy shoes that match the color of their hat.\n",
      "reward: 0.29941225779941016\n",
      "acc: 0.12\n",
      "num_visits: 25\n"
     ]
    }
   ],
   "source": [
    "show_hypotheses_info('/data/rosa/work_in_progress/past-interaction-learning/print_log_new_algorithm_test/shoe/claude_2_49/hypotheses_0.pkl')"
   ]
  },
  {
   "cell_type": "code",
   "execution_count": 4,
   "metadata": {},
   "outputs": [
    {
     "name": "stdout",
     "output_type": "stream",
     "text": [
      "5\n",
      "*** 1 ***\n",
      "hypothesis: Customers tend to buy shoes that match the color of their shirt.\n",
      "reward: 1.0838928307624773\n",
      "acc: 0.98\n",
      "num_visits: 100\n",
      "*** 2 ***\n",
      "hypothesis: Customers that dress with more color variation tend to buy shoes that match one of their clothing items.\n",
      "reward: 0.5538928307624774\n",
      "acc: 0.45\n",
      "num_visits: 100\n",
      "*** 3 ***\n",
      "hypothesis: Younger customers tend to buy brighter colored shoes while older customers buy more muted colors.\n",
      "reward: 0.3538928307624774\n",
      "acc: 0.25\n",
      "num_visits: 100\n",
      "*** 4 ***\n",
      "hypothesis: Customers tend to buy shoes that match the color of their hat.\n",
      "reward: 0.2357293549637467\n",
      "acc: 0.13131313131313133\n",
      "num_visits: 99\n",
      "*** 5 ***\n",
      "hypothesis: Customers tend to buy shoes that match the color of their largest bag.\n",
      "reward: 0.19230769230769232\n",
      "acc: 0.19230769230769232\n",
      "num_visits: 26\n"
     ]
    }
   ],
   "source": [
    "show_hypotheses_info('/data/rosa/work_in_progress/past-interaction-learning/print_log_new_algorithm_test/shoe/claude_2_49/hypotheses_final.pkl')"
   ]
  },
  {
   "cell_type": "code",
   "execution_count": null,
   "metadata": {},
   "outputs": [],
   "source": []
  }
 ],
 "metadata": {
  "kernelspec": {
   "display_name": "Python 3",
   "language": "python",
   "name": "python3"
  },
  "language_info": {
   "codemirror_mode": {
    "name": "ipython",
    "version": 3
   },
   "file_extension": ".py",
   "mimetype": "text/x-python",
   "name": "python",
   "nbconvert_exporter": "python",
   "pygments_lexer": "ipython3",
   "version": "3.7.15"
  },
  "orig_nbformat": 4
 },
 "nbformat": 4,
 "nbformat_minor": 2
}
