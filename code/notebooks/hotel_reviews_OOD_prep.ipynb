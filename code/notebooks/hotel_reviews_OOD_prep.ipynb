{
 "cells": [
  {
   "cell_type": "code",
   "execution_count": 7,
   "metadata": {},
   "outputs": [
    {
     "name": "stdout",
     "output_type": "stream",
     "text": [
      "The autoreload extension is already loaded. To reload it, use:\n",
      "  %reload_ext autoreload\n"
     ]
    }
   ],
   "source": [
    "import pandas as pd\n",
    "from pprint import pprint\n",
    "import sys\n",
    "import os\n",
    "import numpy as np\n",
    "import sys\n",
    "\n",
    "os.environ[\"CODE_REPO_PATH\"]=\"/home/haokunliu/past-interaction-learning\"\n",
    "os.environ[\"SERVER\"]='dsi'\n",
    "code_repo_path = os.environ.get(\"CODE_REPO_PATH\")\n",
    "sys.path.append(f'{code_repo_path}/code')\n",
    "sys.path.append(f'{code_repo_path}/code/algorithm')\n",
    "%load_ext autoreload\n",
    "%autoreload 2\n",
    "\n",
    "subset = 'chicago'"
   ]
  },
  {
   "cell_type": "code",
   "execution_count": 8,
   "metadata": {},
   "outputs": [],
   "source": [
    "import json\n",
    "def load_reviews(file_path):\n",
    "# Replace 'path_to_file.jsonl' with the actual file path\n",
    "# Create an empty list to hold JSON objects\n",
    "    json_objects = []\n",
    "\n",
    "    # Open the .jsonl file and read lines\n",
    "    with open(file_path, 'r', encoding='utf-8') as file:\n",
    "        for line in file:\n",
    "            # Parse the JSON object and add to the list\n",
    "            json_object = json.loads(line.strip())\n",
    "            json_objects.append(json_object)\n",
    "\n",
    "    # Now `json_objects` holds a list of dictionaries\n",
    "    # You can process your json objects here\n",
    "    reviews = []\n",
    "    for obj in json_objects:\n",
    "        reviews.append(obj['Answer']['review_text'])\n",
    "    return reviews"
   ]
  },
  {
   "cell_type": "code",
   "execution_count": 9,
   "metadata": {},
   "outputs": [],
   "source": [
    "def check_subset(filename, subset='all'):\n",
    "    if subset == 'all':\n",
    "        return True\n",
    "    elif subset == 'Chicago':\n",
    "        return 'chicago' in filename\n",
    "    elif subset == 'non-Chicago':\n",
    "        return not ('chicago' in filename)\n",
    "    else:\n",
    "        raise ValueError(\"Invalid subset method\")"
   ]
  },
  {
   "cell_type": "code",
   "execution_count": 18,
   "metadata": {},
   "outputs": [],
   "source": [
    "def load_truthful_and_deceptive_reviews(subset='all'):\n",
    "    import os\n",
    "    # Load deceptive reviews\n",
    "    hotel_reviews = {} \n",
    "    folder = f'{code_repo_path}/data/OOD_hotel_reviews/fake'\n",
    "    # get the list of files in each folder\n",
    "    files = os.listdir(folder)\n",
    "    deceptive_reviews = []\n",
    "    for file in files:\n",
    "        # print(subset,check_subset(file,subset))\n",
    "        if check_subset(file,subset):\n",
    "            deceptive_reviews += load_reviews(f'{folder}/{file}')\n",
    "\n",
    "    # Load truthful reviews\n",
    "    folder = f'{code_repo_path}/data/OOD_hotel_reviews/true'\n",
    "    # get the list of files in each folder\n",
    "    files = os.listdir(folder)\n",
    "    truthful_reviews = []\n",
    "    for file in files:\n",
    "        # print(subset,check_subset(file,subset))\n",
    "        if check_subset(file,subset):\n",
    "            with open(f'{folder}/{file}', 'r') as reviews:\n",
    "            # Read each line one by one\n",
    "                for review in reviews:\n",
    "                    # Process each line here\n",
    "                    truthful_reviews.append(review.strip())\n",
    "\n",
    "    reviews_all = truthful_reviews + deceptive_reviews\n",
    "    labels_all = len(truthful_reviews)*['truthful'] + len(deceptive_reviews)*['deceptive']\n",
    "    hotel_reviews['review'] = reviews_all\n",
    "    hotel_reviews['label'] = labels_all\n",
    "\n",
    "    return hotel_reviews"
   ]
  },
  {
   "cell_type": "code",
   "execution_count": 19,
   "metadata": {},
   "outputs": [],
   "source": [
    "# import os\n",
    "# hotel_reviews = {} \n",
    "# folder = f'{code_repo_path}/data/OOD_hotel_reviews/fake'\n",
    "# # get the list of files in each folder\n",
    "# files = os.listdir(folder)\n",
    "# deceptive_reviews = []\n",
    "# for file in files:\n",
    "#     deceptive_reviews += load_reviews(f'{folder}/{file}')"
   ]
  },
  {
   "cell_type": "code",
   "execution_count": 20,
   "metadata": {},
   "outputs": [],
   "source": [
    "\n",
    "# hotel_reviews = {} \n",
    "# folder = f'{code_repo_path}/data/OOD_hotel_reviews/true'\n",
    "# # get the list of files in each folder\n",
    "# files = os.listdir(folder)\n",
    "# truthful_reviews = []\n",
    "# for file in files:\n",
    "#     with open(f'{folder}/{file}', 'r') as reviews:\n",
    "#     # Read each line one by one\n",
    "#         for review in reviews:\n",
    "#             # Process each line here\n",
    "#             truthful_reviews.append(review.strip())"
   ]
  },
  {
   "cell_type": "code",
   "execution_count": 21,
   "metadata": {},
   "outputs": [],
   "source": [
    "# reviews_all = truthful_reviews + deceptive_reviews\n",
    "# labels_all = len(truthful_reviews)*['truthful'] + len(deceptive_reviews)*['deceptive']\n",
    "# hotel_reviews['review'] = reviews_all\n",
    "# hotel_reviews['label'] = labels_all"
   ]
  },
  {
   "cell_type": "code",
   "execution_count": 22,
   "metadata": {},
   "outputs": [],
   "source": [
    "hotel_reviews = load_truthful_and_deceptive_reviews(subset='non-Chicago')"
   ]
  },
  {
   "cell_type": "code",
   "execution_count": 23,
   "metadata": {},
   "outputs": [
    {
     "name": "stdout",
     "output_type": "stream",
     "text": [
      "480\n",
      "480\n"
     ]
    }
   ],
   "source": [
    "# print(hotel_reviews)\n",
    "print(len(hotel_reviews['label']))\n",
    "print(len(hotel_reviews['review']))\n"
   ]
  },
  {
   "cell_type": "code",
   "execution_count": 17,
   "metadata": {},
   "outputs": [
    {
     "name": "stdout",
     "output_type": "stream",
     "text": [
      "all True\n",
      "all True\n",
      "all True\n",
      "all True\n",
      "all True\n",
      "all True\n",
      "all True\n",
      "all True\n",
      "all True\n",
      "all True\n",
      "all True\n",
      "all True\n",
      "Chicago False\n",
      "Chicago False\n",
      "Chicago True\n",
      "Chicago False\n",
      "Chicago False\n",
      "Chicago True\n",
      "Chicago False\n",
      "Chicago True\n",
      "Chicago False\n",
      "Chicago False\n",
      "Chicago False\n",
      "Chicago False\n",
      "non-Chicago True\n",
      "non-Chicago True\n",
      "non-Chicago False\n",
      "non-Chicago True\n",
      "non-Chicago True\n",
      "non-Chicago False\n",
      "non-Chicago True\n",
      "non-Chicago False\n",
      "non-Chicago True\n",
      "non-Chicago True\n",
      "non-Chicago True\n",
      "non-Chicago True\n"
     ]
    }
   ],
   "source": [
    "for subset in ['all', 'Chicago', 'non-Chicago']:\n",
    "    hotel_reviews = load_truthful_and_deceptive_reviews(subset=subset)\n",
    "    with open(f'{code_repo_path}/data/ood_hotel_reviews_{subset}.json', 'w') as file:\n",
    "        json.dump(hotel_reviews, file)"
   ]
  },
  {
   "cell_type": "code",
   "execution_count": 41,
   "metadata": {},
   "outputs": [],
   "source": [
    "with open(f'{code_repo_path}/data/ood_hotel_reviews.json', 'w') as file:\n",
    "    json.dump(hotel_reviews, file)"
   ]
  },
  {
   "cell_type": "code",
   "execution_count": 42,
   "metadata": {},
   "outputs": [],
   "source": [
    "with open(f'{code_repo_path}/data/ood_hotel_reviews.json', 'r') as file:\n",
    "    data = json.load(file)"
   ]
  }
 ],
 "metadata": {
  "kernelspec": {
   "display_name": "Python 3",
   "language": "python",
   "name": "python3"
  },
  "language_info": {
   "codemirror_mode": {
    "name": "ipython",
    "version": 3
   },
   "file_extension": ".py",
   "mimetype": "text/x-python",
   "name": "python",
   "nbconvert_exporter": "python",
   "pygments_lexer": "ipython3",
   "version": "3.12.1"
  }
 },
 "nbformat": 4,
 "nbformat_minor": 2
}
