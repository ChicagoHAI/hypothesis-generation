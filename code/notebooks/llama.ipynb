{
 "cells": [
  {
   "cell_type": "code",
   "execution_count": null,
   "metadata": {},
   "outputs": [],
   "source": [
    "from transformers import LlamaForCausalLM, LlamaTokenizer, LlamaConfig\n",
    "import torch"
   ]
  },
  {
   "cell_type": "code",
   "execution_count": null,
   "metadata": {},
   "outputs": [],
   "source": [
    "# cache_dir = \"/net/scratch/haokunliu/llama_cache\"\n",
    "# path_name = \"/net/projects/veitch/LLMs/llama2-based-models/llama2-hf/Llama-2-7b-chat-hf/\"\n",
    "cache_dir = \"/data/rosa/llama_cache/\"\n",
    "path_name = \"/data/LLAMA2_chat_hf/llama2_chat_7B/\"\n",
    "\n",
    "if torch.cuda.is_available(): \n",
    "    device = \"cuda:0\" \n",
    "else: \n",
    "    device = \"cpu\"\n",
    "\n",
    "config = LlamaConfig.from_pretrained(path_name, cache_dir=cache_dir)\n",
    "tokenizer = LlamaTokenizer.from_pretrained(path_name, cache_dir=cache_dir)\n",
    "llama = LlamaForCausalLM.from_pretrained(\n",
    "    path_name, config=config, cache_dir=cache_dir, \n",
    ").to(device)\n",
    "print(\"loaded model\")"
   ]
  },
  {
   "cell_type": "code",
   "execution_count": null,
   "metadata": {},
   "outputs": [],
   "source": [
    "prompt = \"What is the meaning of life?\""
   ]
  },
  {
   "cell_type": "code",
   "execution_count": null,
   "metadata": {},
   "outputs": [],
   "source": [
    "inputs = tokenizer(prompt, return_tensors=\"pt\").to(device)\n",
    "out = llama.generate(inputs=inputs.input_ids, max_new_tokens=2048)\n",
    "output_text = tokenizer.batch_decode(out, skip_special_tokens=True)[0]\n",
    "output_text = output_text[len(prompt):]\n",
    "print(output_text)"
   ]
  },
  {
   "cell_type": "code",
   "execution_count": null,
   "metadata": {},
   "outputs": [],
   "source": []
  },
  {
   "cell_type": "code",
   "execution_count": null,
   "metadata": {},
   "outputs": [],
   "source": [
    "import sys\n",
    "sys.path.append(\"/data/rosa/work_in_progress/past-interaction-learning/code\")"
   ]
  },
  {
   "cell_type": "code",
   "execution_count": null,
   "metadata": {},
   "outputs": [],
   "source": [
    "from utils import LLMWrapper"
   ]
  },
  {
   "cell_type": "code",
   "execution_count": null,
   "metadata": {},
   "outputs": [],
   "source": [
    "api = LLMWrapper('llama_2_7b')"
   ]
  },
  {
   "cell_type": "code",
   "execution_count": null,
   "metadata": {},
   "outputs": [],
   "source": [
    "prompt = \"What is the meaning of life?\""
   ]
  },
  {
   "cell_type": "code",
   "execution_count": null,
   "metadata": {},
   "outputs": [],
   "source": [
    "api.generate(prompt)"
   ]
  },
  {
   "cell_type": "markdown",
   "metadata": {},
   "source": [
    "### non-chat version, add repetition penalty"
   ]
  },
  {
   "cell_type": "code",
   "execution_count": null,
   "metadata": {},
   "outputs": [],
   "source": []
  },
  {
   "cell_type": "code",
   "execution_count": 1,
   "metadata": {},
   "outputs": [
    {
     "name": "stdout",
     "output_type": "stream",
     "text": [
      "Environment variable not set.\n",
      "Code repo path: /data/rosa/work_in_progress/past-interaction-learning/\n"
     ]
    }
   ],
   "source": [
    "import sys\n",
    "sys.path.append(f'../')\n",
    "from utils import *"
   ]
  },
  {
   "cell_type": "code",
   "execution_count": 2,
   "metadata": {},
   "outputs": [
    {
     "name": "stderr",
     "output_type": "stream",
     "text": [
      "normalizer.cc(51) LOG(INFO) precompiled_charsmap is empty. use identity normalization.\n"
     ]
    },
    {
     "data": {
      "application/vnd.jupyter.widget-view+json": {
       "model_id": "ac4e37c260d34feea69d5206396d2996",
       "version_major": 2,
       "version_minor": 0
      },
      "text/plain": [
       "Loading checkpoint shards:   0%|          | 0/2 [00:00<?, ?it/s]"
      ]
     },
     "metadata": {},
     "output_type": "display_data"
    }
   ],
   "source": [
    "api = LLMWrapper('llama_2_7b')"
   ]
  },
  {
   "cell_type": "markdown",
   "metadata": {},
   "source": [
    "### shoe dataset"
   ]
  },
  {
   "cell_type": "code",
   "execution_count": 3,
   "metadata": {},
   "outputs": [],
   "source": [
    "prompt='''###\n",
    "Instruction:\n",
    "Given a set of observations, we want to generate a summary that is useful for predicting the color of the shoes given the appearance of the person. Please be concise and keep the summary to be one-sentence long. Propose 5 possible summaries. Generate them in the format of 1. [summary], 2. [summary], ... 5. [summary].\n",
    "###\n",
    "We made some observations:\n",
    "The customer's appearance: a young and tall man with green hat, red shirt, and a small red bag. The customer bought a pair of red shoes.\n",
    "The customer's appearance: a old and short woman with red hat, green shirt, and a large green bag. The customer bought a pair of green shoes.\n",
    "The customer's appearance: a young and short man with black hat, orange shirt, and a large green bag. The customer bought a pair of orange shoes.\n",
    "The customer's appearance: a old and tall woman with red hat, blue shirt, and a large white bag. The customer bought a pair of blue shoes.\n",
    "The customer's appearance: a old and tall woman with red hat, blue shirt, and a small blue bag. The customer bought a pair of blue shoes.\n",
    "Generate a summary that is useful for predicting the color of the shoes. Please be concise and keep the summary to be one-sentence long. Propose 5 possible summaries. Generate them in the format of 1. [summary], 2. [summary], ... 5. [summary]\n",
    "'''"
   ]
  },
  {
   "cell_type": "code",
   "execution_count": 4,
   "metadata": {},
   "outputs": [
    {
     "name": "stdout",
     "output_type": "stream",
     "text": [
      "\n",
      "1. The customer's height and age can be used to predict the color of their shoes, with tall and young customers more likely to buy red shoes and short and old customers more likely to buy blue shoes.\n",
      "2. The customer's fashion sense can be used to predict the color of their shoes, with customers wearing red hats and orange shirts more likely to buy red shoes and customers wearing green hats and blue shirts more likely to buy blue shoes.\n",
      "3. The customer's bag color can be used to predict the color of their shoes, with customers carrying large bags in the same color as their shoes more likely to buy shoes in that color.\n",
      "4. The customer's hat color can be used to predict the color of their shoes, with customers wearing green hats more likely to buy green shoes and customers wearing red hats more likely to buy red shoes.\n",
      "5. The customer's shirt color can be used to predict the color of their shoes, with customers wearing red shirts more likely to buy red shoes and customers wearing green shirts more likely to buy green shoes.\n"
     ]
    }
   ],
   "source": [
    "print(api.generate(prompt))"
   ]
  },
  {
   "cell_type": "code",
   "execution_count": 18,
   "metadata": {},
   "outputs": [],
   "source": [
    "prompt='''###\n",
    "Instruction:\n",
    "Given a set of observations, we want to generate hypotheses that are useful for predicting the color of the shoes given the appearance of the person. Please be concise and keep each hypothesis to be one-sentence long. Propose 5 possible hypotheses. Generate them in the format of 1. [hypothesis], 2. [hypothesis], ... 5. [hypothesis]. Please make the hypotheses general enough to be applicable to new observations.\n",
    "###\n",
    "We made some observations:\n",
    "The customer's appearance: a young and tall man with green hat, red shirt, and a small red bag. The customer bought a pair of red shoes.\n",
    "The customer's appearance: a old and short woman with red hat, green shirt, and a large green bag. The customer bought a pair of green shoes.\n",
    "The customer's appearance: a young and short man with black hat, orange shirt, and a large green bag. The customer bought a pair of orange shoes.\n",
    "The customer's appearance: a old and tall woman with red hat, blue shirt, and a large white bag. The customer bought a pair of blue shoes.\n",
    "The customer's appearance: a old and tall woman with red hat, blue shirt, and a small blue bag. The customer bought a pair of blue shoes.\n",
    "Generate hypotheses that are useful for predicting the color of the shoes. Please be concise and keep each hypothesis to be one-sentence long. Propose 5 possible hypotheses. Generate them in the format of 1. [hypothesis], 2. [hypothesis], ... 5. [hypothesis].\n",
    "\n",
    "Proposed hypotheses:\n",
    "'''"
   ]
  },
  {
   "cell_type": "code",
   "execution_count": 19,
   "metadata": {},
   "outputs": [
    {
     "name": "stdout",
     "output_type": "stream",
     "text": [
      "\n",
      "1. If the customer is wearing a red hat, the shoes will be red.\n",
      "2. If the customer is carrying a large bag, the shoes will be the same color as the bag.\n",
      "3. If the customer is wearing a hat, the shoes will be a darker color than the hat.\n",
      "4. If the customer is wearing a shirt with a bright color, the shoes will be a darker color than the shirt.\n",
      "5. If the customer is carrying a bag with a bright color, the shoes will be the same color as the bag.\n"
     ]
    },
    {
     "ename": "",
     "evalue": "",
     "output_type": "error",
     "traceback": [
      "\u001b[1;31mThe Kernel crashed while executing code in the the current cell or a previous cell. Please review the code in the cell(s) to identify a possible cause of the failure. Click <a href='https://aka.ms/vscodeJupyterKernelCrash'>here</a> for more info. View Jupyter <a href='command:jupyter.viewOutput'>log</a> for further details."
     ]
    }
   ],
   "source": [
    "print(api.generate(prompt))"
   ]
  },
  {
   "cell_type": "markdown",
   "metadata": {},
   "source": [
    "### hotel reviews dataset"
   ]
  },
  {
   "cell_type": "code",
   "execution_count": 13,
   "metadata": {},
   "outputs": [],
   "source": [
    "prompt='''###\n",
    "Instruction:\n",
    "Given a set of hotel reviews, we want to generate a summary that is useful for predicting whether a review is truthful or deceptive. In other words, we want to know whether the review is written by a someone who actually lived in the hotel.\n",
    "Please be concise and keep the summary to be one-sentence long. Propose 4 possible summaries. Generate them in the format of 1. [summary], 2. [summary], ... 4. [summary].\n",
    "###\n",
    "We have seen some hotel reviews:\n",
    "A hotel review is the following: \"Hello, I recently stayed at the Affinia hotel in Chicago, and was very unhappy when I learned of additional charges upon arrival. When I made the reservations over the phone there was no mention of any internet or parking fees. When I arrive I'm told fee to valet park is $49 per day, plus another $10 for internet. This is just plain ridiculous, and will remember not to stay here in future. There's too many other fine hotels that don't charge these fees.\n",
    "\"\n",
    "\n",
    "The review is: deceptive.\n",
    "\n",
    "A hotel review is the following: \" My wife and I's stay at the Sheraton Chicago Hotel and Towers proved to be the perfect complement to our time spent visiting and exploring the Windy City. Upon our arrival, we were immediately welcomed by the beautiful design of the first-floor lobby and the friendly demeanor of the desk and bell service staff. In seemingly no time at all we were in our clean and well-furnished room with a beautiful and peaceful view of Lake Michigan. In terms of accommodations, I have never personally stayed at a hotel that I could complement more. On our very first night, my wife took advantage of a message therapy session while I swam a few laps in the heated indoor swimming pool. We followed our time apart with a very relaxing time at the Chi bar, which had a very enlivening and laid-back atmosphere. Retiring to our rooms, I couldn't help but remark to my wife about the quality of our room and the bed in particular. I had a very comfortable night's sleep and woke up just on time thanks to a spot-on wake up call from the desk staff. After a quick bite to eat the LB Bistro, we headed out to sight-see. Overall, I can't recommend the Sheraton Chicago Hotel and Towers enough. As far as this customer is concerned, it is the only place to stay if you are in the Chicago area and are looking for accommodations with the best customer service, atmosphere, and amenities. I couldn't recommend it more. \n",
    "\"\n",
    "\n",
    "The review is: deceptive.\n",
    "\n",
    "A hotel review is the following: \"I'm sitting in the hotel as I right this review and am not impressed with the room. The hotel is not modern in the least - it feels like you're staying in your grandmother's attic. Wallpaper is peeling off the wall, not well lit, very few outlets in the room -- especially convenient ones (none next to the bed or built into lamps), terrible views and loud construction noises woke me up at 7am. Even the location is off the beaten path - closest L stop is on the Red Line -- so not accessible via the loop stops on the blue line from the airport without transferring. Health club is not on site either. There are hundreds of other hotels I would stay in over this one.\n",
    "\"\n",
    "\n",
    "The review is: truthful.\n",
    "\n",
    "A hotel review is the following: \"I was going to Chicago last month and wanted a nice hotel that was close to restaurants and shops. I did some research and believed the InterContinental would suit my needs. I sure was not disappointed by my decision! This hotel lots of historic charm. Despite being a larger hotel, the service was top shelf! The rooms, while not large by any means, were extremely well-appointed and very comfortable. My kids loved the big swimming pool that the hotel offered. As for me, I was more impressed with the location to the Magnificent Mile. The hotel also has a nice restaurant on-site. The food was very good and, just like the hotel itself, the restaurant provided perfect customer service. Dollar for dollar, the InterContinental in Chicago is a great deal and I will be staying there again. \n",
    "\"\n",
    "\n",
    "The review is: deceptive.\n",
    "\n",
    "Generate a summary that is useful for predicting whether a review is truthful or deceptive. Please be concise and keep the summary to be one-sentence long. Propose 4 possible summaries. Generate them in the format of 1. [summary], 2. [summary], ... 4. [summary]\n",
    "'''"
   ]
  },
  {
   "cell_type": "code",
   "execution_count": 14,
   "metadata": {},
   "outputs": [
    {
     "name": "stdout",
     "output_type": "stream",
     "text": [
      "\n",
      "1. The reviewer's negative experience with additional charges upon arrival suggests that the review may be deceptive.\n",
      "2. The reviewer's use of superlatives and exaggerated language, such as \"perfect\", \"best\", and \"not impressed\", suggests that the review may be deceptive.\n",
      "3. The reviewer's lack of specific details and negative generalizations about the hotel's modernity and location suggests that the review may be truthful.\n",
      "4. The reviewer's positive mention of the hotel's service, amenities, and convenience to the Magnificent Mile suggests that the review may be deceptive.\n"
     ]
    }
   ],
   "source": [
    "print(api.generate(prompt))"
   ]
  },
  {
   "cell_type": "code",
   "execution_count": 9,
   "metadata": {},
   "outputs": [],
   "source": [
    "prompt='''###\n",
    "Instruction:\n",
    "Given a set of hotel reviews, we want to generate hypotheses that are useful for predicting whether a review is truthful or deceptive. In other words, we want to know whether the review is written by a someone who actually lived in the hotel.\n",
    "Please be concise and keep each hypothesis to be one-sentence long. Propose 4 possible hypotheses. Generate them in the format of 1. [hypothesis], 2. [hypothesis], ... 4. [hypothesis]. The hypotheses should analyze what kind of reviews are likely to be truthful or deceptive.\n",
    "###\n",
    "We have seen some hotel reviews:\n",
    "A hotel review is the following: \"Hello, I recently stayed at the Affinia hotel in Chicago, and was very unhappy when I learned of additional charges upon arrival. When I made the reservations over the phone there was no mention of any internet or parking fees. When I arrive I'm told fee to valet park is $49 per day, plus another $10 for internet. This is just plain ridiculous, and will remember not to stay here in future. There's too many other fine hotels that don't charge these fees.\n",
    "\"\n",
    "\n",
    "The review is: deceptive.\n",
    "\n",
    "A hotel review is the following: \" My wife and I's stay at the Sheraton Chicago Hotel and Towers proved to be the perfect complement to our time spent visiting and exploring the Windy City. Upon our arrival, we were immediately welcomed by the beautiful design of the first-floor lobby and the friendly demeanor of the desk and bell service staff. In seemingly no time at all we were in our clean and well-furnished room with a beautiful and peaceful view of Lake Michigan. In terms of accommodations, I have never personally stayed at a hotel that I could complement more. On our very first night, my wife took advantage of a message therapy session while I swam a few laps in the heated indoor swimming pool. We followed our time apart with a very relaxing time at the Chi bar, which had a very enlivening and laid-back atmosphere. Retiring to our rooms, I couldn't help but remark to my wife about the quality of our room and the bed in particular. I had a very comfortable night's sleep and woke up just on time thanks to a spot-on wake up call from the desk staff. After a quick bite to eat the LB Bistro, we headed out to sight-see. Overall, I can't recommend the Sheraton Chicago Hotel and Towers enough. As far as this customer is concerned, it is the only place to stay if you are in the Chicago area and are looking for accommodations with the best customer service, atmosphere, and amenities. I couldn't recommend it more. \n",
    "\"\n",
    "\n",
    "The review is: deceptive.\n",
    "\n",
    "A hotel review is the following: \"I'm sitting in the hotel as I right this review and am not impressed with the room. The hotel is not modern in the least - it feels like you're staying in your grandmother's attic. Wallpaper is peeling off the wall, not well lit, very few outlets in the room -- especially convenient ones (none next to the bed or built into lamps), terrible views and loud construction noises woke me up at 7am. Even the location is off the beaten path - closest L stop is on the Red Line -- so not accessible via the loop stops on the blue line from the airport without transferring. Health club is not on site either. There are hundreds of other hotels I would stay in over this one.\n",
    "\"\n",
    "\n",
    "The review is: truthful.\n",
    "\n",
    "A hotel review is the following: \"I was going to Chicago last month and wanted a nice hotel that was close to restaurants and shops. I did some research and believed the InterContinental would suit my needs. I sure was not disappointed by my decision! This hotel lots of historic charm. Despite being a larger hotel, the service was top shelf! The rooms, while not large by any means, were extremely well-appointed and very comfortable. My kids loved the big swimming pool that the hotel offered. As for me, I was more impressed with the location to the Magnificent Mile. The hotel also has a nice restaurant on-site. The food was very good and, just like the hotel itself, the restaurant provided perfect customer service. Dollar for dollar, the InterContinental in Chicago is a great deal and I will be staying there again. \n",
    "\"\n",
    "\n",
    "The review is: deceptive.\n",
    "\n",
    "Generate hypotheses that are useful for predicting whether a review is truthful or deceptive. Please be concise and keep each hypothesis to be one-sentence long. Propose 4 possible hypotheses. Generate them in the format of 1. [hypothesis], 2. [hypothesis], ... 4. [hypothesis]\n",
    "'''"
   ]
  },
  {
   "cell_type": "code",
   "execution_count": 10,
   "metadata": {},
   "outputs": [
    {
     "name": "stdout",
     "output_type": "stream",
     "text": [
      "\n",
      "1. The review is deceptive if the reviewer uses negative language, such as \"ridiculous,\" \"not worth it,\" or \"terrible.\"\n",
      "2. The review is truthful if the reviewer provides specific details about their stay, such as the location of the hotel, the condition of the room, or the quality of the service.\n",
      "3. The review is deceptive if the reviewer fails to mention any negative experiences or issues during their stay, despite having the opportunity to do so.\n",
      "4. The review is truthful if the reviewer provides a balanced evaluation of the hotel, including both positive and negative aspects, and does not appear to have any ulterior motives or biases.\n"
     ]
    }
   ],
   "source": [
    "print(api.generate(prompt))"
   ]
  },
  {
   "cell_type": "code",
   "execution_count": null,
   "metadata": {},
   "outputs": [],
   "source": []
  },
  {
   "cell_type": "code",
   "execution_count": null,
   "metadata": {},
   "outputs": [],
   "source": []
  }
 ],
 "metadata": {
  "kernelspec": {
   "display_name": "Python 3",
   "language": "python",
   "name": "python3"
  },
  "language_info": {
   "codemirror_mode": {
    "name": "ipython",
    "version": 3
   },
   "file_extension": ".py",
   "mimetype": "text/x-python",
   "name": "python",
   "nbconvert_exporter": "python",
   "pygments_lexer": "ipython3",
   "version": "3.7.15"
  }
 },
 "nbformat": 4,
 "nbformat_minor": 2
}
