{
 "cells": [
  {
   "cell_type": "code",
   "execution_count": 4,
   "metadata": {},
   "outputs": [],
   "source": [
    "import pandas as pd"
   ]
  },
  {
   "cell_type": "markdown",
   "metadata": {},
   "source": [
    "## Data Preparation\n",
    "### We use MNLI as training data and HANS as test data"
   ]
  },
  {
   "cell_type": "code",
   "execution_count": 5,
   "metadata": {},
   "outputs": [
    {
     "name": "stdout",
     "output_type": "stream",
     "text": [
      "392702\n",
      "   gold_label                                          sentence1  \\\n",
      "0     neutral  Conceptually cream skimming has two basic dime...   \n",
      "1  entailment  you know during the season and i guess at at y...   \n",
      "2  entailment  One of our number will carry out your instruct...   \n",
      "3  entailment  How do you know? All this is their information...   \n",
      "4     neutral  yeah i tell you what though if you go price so...   \n",
      "\n",
      "                                           sentence2  \n",
      "0  Product and geography are what make cream skim...  \n",
      "1  You lose the things to the following level if ...  \n",
      "2  A member of my team will execute your orders w...  \n",
      "3                  This information belongs to them.  \n",
      "4           The tennis shoes have a range of prices.  \n",
      "30000\n",
      "       gold_label                               sentence1  \\\n",
      "0  non-entailment      The president advised the doctor .   \n",
      "1  non-entailment          The student saw the managers .   \n",
      "2  non-entailment  The presidents encouraged the banker .   \n",
      "3  non-entailment      The senators supported the actor .   \n",
      "4  non-entailment        The actors avoided the bankers .   \n",
      "\n",
      "                                sentence2  \n",
      "0      The doctor advised the president .  \n",
      "1          The managers saw the student .  \n",
      "2  The banker encouraged the presidents .  \n",
      "3      The actor supported the senators .  \n",
      "4        The bankers avoided the actors .  \n"
     ]
    }
   ],
   "source": [
    "mnli_train_path = \"/data/rosa/data/multinli/multinli_1.0_train.jsonl\"\n",
    "hans_test_path = \"/data/rosa/data/hans/heuristics_evaluation_set.jsonl\"\n",
    "\n",
    "def get_data(path):\n",
    "    df = pd.read_json(path, lines=True)\n",
    "    df = df[[\"gold_label\", \"sentence1\", \"sentence2\"]]\n",
    "\n",
    "    print(len(df))\n",
    "    print(df.head())\n",
    "\n",
    "    return df\n",
    "\n",
    "mnli_train_df = get_data(mnli_train_path)\n",
    "hans_test_df = get_data(hans_test_path)"
   ]
  },
  {
   "cell_type": "code",
   "execution_count": 6,
   "metadata": {},
   "outputs": [],
   "source": [
    "# randomly sample 1000 examples from MNLI train set and 100 examples from HANS test set\n",
    "mnli_sample = mnli_train_df.sample(n=1000, random_state=42)\n",
    "hans_sample = hans_test_df.sample(n=100, random_state=42)\n",
    "\n",
    "# save to jsonl\n",
    "mnli_sample.to_json(\"/data/rosa/work_in_progress/past-interaction-learning/data/multinli_train_sample_1000.jsonl\", orient=\"records\", lines=True)\n",
    "hans_sample.to_json(\"/data/rosa/work_in_progress/past-interaction-learning/data/hans_eval_sample_100.jsonl\", orient=\"records\", lines=True)"
   ]
  }
 ],
 "metadata": {
  "kernelspec": {
   "display_name": "Python 3",
   "language": "python",
   "name": "python3"
  },
  "language_info": {
   "codemirror_mode": {
    "name": "ipython",
    "version": 3
   },
   "file_extension": ".py",
   "mimetype": "text/x-python",
   "name": "python",
   "nbconvert_exporter": "python",
   "pygments_lexer": "ipython3",
   "version": "3.7.15"
  },
  "orig_nbformat": 4
 },
 "nbformat": 4,
 "nbformat_minor": 2
}
