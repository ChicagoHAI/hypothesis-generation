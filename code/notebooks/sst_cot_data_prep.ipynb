{
 "cells": [
  {
   "cell_type": "code",
   "execution_count": 1,
   "metadata": {},
   "outputs": [],
   "source": [
    "# Manually write cot for 8 examples in the sst dataset for the original sentiment task.\n",
    "# Save to jsonl file.\n",
    "# {'sentence': sentence, 'label': label, 'cot': cot}"
   ]
  },
  {
   "cell_type": "code",
   "execution_count": 2,
   "metadata": {},
   "outputs": [
    {
     "data": {
      "text/plain": [
       "'\\nThe sentence: \"Much of it is funny , but there are also some startling , surrealistic moments ...\"\\n\\nThe label of the sentence: very positive.\\n\\nThe sentence: \"The story has its redundancies , and the young actors , not very experienced , are sometimes inexpressive .\"\\n\\nThe label of the sentence: negative.\\n\\nThe sentence: \"An entertainment so in love with its overinflated mythology that it no longer recognizes the needs of moviegoers for real characters and compelling plots .\"\\n\\nThe label of the sentence: very negative.\\n\\nThe sentence: \"Although What Time offers Tsai \\'s usual style and themes , it has a more colorful , more playful tone than his other films .\"\\n\\nThe label of the sentence: very positive.\\n\\nThe sentence: \"Audacious-impossible yet compelling ...\"\\n\\nThe label of the sentence: very positive.\\n\\nThe sentence: \"The strong subject matter continues to shock throughout the film .\"\\n\\nThe label of the sentence: positive.\\n\\nThe sentence: \"Béart and Berling are both superb , while Huppert ... is magnificent .\"\\n\\nThe label of the sentence: very positive.\\n\\nThe sentence: \"\\'Synthetic\\' is the best description of this well-meaning , beautifully produced film that sacrifices its promise for a high-powered star pedigree .\"\\n\\nThe label of the sentence: unlikely to be headline.\\n'"
      ]
     },
     "execution_count": 2,
     "metadata": {},
     "output_type": "execute_result"
    }
   ],
   "source": [
    "\"\"\"\n",
    "The sentence: \"Much of it is funny , but there are also some startling , surrealistic moments ...\"\n",
    "\n",
    "The label of the sentence: very positive.\n",
    "\n",
    "The sentence: \"The story has its redundancies , and the young actors , not very experienced , are sometimes inexpressive .\"\n",
    "\n",
    "The label of the sentence: negative.\n",
    "\n",
    "The sentence: \"An entertainment so in love with its overinflated mythology that it no longer recognizes the needs of moviegoers for real characters and compelling plots .\"\n",
    "\n",
    "The label of the sentence: very negative.\n",
    "\n",
    "The sentence: \"Although What Time offers Tsai 's usual style and themes , it has a more colorful , more playful tone than his other films .\"\n",
    "\n",
    "The label of the sentence: very positive.\n",
    "\n",
    "The sentence: \"Audacious-impossible yet compelling ...\"\n",
    "\n",
    "The label of the sentence: very positive.\n",
    "\n",
    "The sentence: \"The strong subject matter continues to shock throughout the film .\"\n",
    "\n",
    "The label of the sentence: positive.\n",
    "\n",
    "The sentence: \"Béart and Berling are both superb , while Huppert ... is magnificent .\"\n",
    "\n",
    "The label of the sentence: very positive.\n",
    "\n",
    "The sentence: \"'Synthetic' is the best description of this well-meaning , beautifully produced film that sacrifices its promise for a high-powered star pedigree .\"\n",
    "\n",
    "The label of the sentence: unlikely to be headline.\n",
    "\"\"\""
   ]
  },
  {
   "cell_type": "code",
   "execution_count": 3,
   "metadata": {},
   "outputs": [],
   "source": [
    "jsonl_object = []\n",
    "jsonl_object.append({'sentence': \"Much of it is funny , but there are also some startling , surrealistic moments ...\", \n",
    "                     'label': 'positive',\n",
    "                     'cot': 'The word \"funny\" indicates positive sentiment. The startling and surrealistic moments are more neutral description of the movie. The word \"but\" indicates a contrast between the two parts of the sentence. The first part is positive, and the second part is neutral. The overall sentiment of the sentence is positive.'})\n",
    "jsonl_object.append({'sentence': \"The story has its redundancies , and the young actors , not very experienced , are sometimes inexpressive .\", \n",
    "                     'label': 'negative',\n",
    "                     'cot': 'The word \"redundancies\" is a negative comment to the storyline. The actors are described as \"not very experienced\" and \"sometimes inexpressive\", both are negative comments. The overall sentiment of the sentence is negative.'})\n",
    "jsonl_object.append({'sentence': \"An entertainment so in love with its overinflated mythology that it no longer recognizes the needs of moviegoers for real characters and compelling plots .\", \n",
    "                     'label': 'negative',\n",
    "                     'cot': 'The movie is described as an \"entertainment\" that focuses on \"overinflated mythology\", which is a negative comment because overly inflated suggests the movie is overly dramatic and not satisfying certain needs of the audience. \"No longer recognizes the needs of moviegoers for real characters and compelling plots\" suggests that the movie lacks real characters and compelling plots. The overall sentiment of the sentence is negative'})\n",
    "jsonl_object.append({'sentence': \"Although What Time offers Tsai 's usual style and themes , it has a more colorful , more playful tone than his other films .\", \n",
    "                     'label': 'positive',\n",
    "                     'cot': 'This review commented that the movie has a \"more colorful, more playful tone\" than the director\\'s other films, which is a positive comment. The word \"although\" indicates a contrast between the two parts of the sentence and the emphasis is on the second part. The first part is slightly negative because the movie has a \"usual style and themes\", suggesting less novelty. However, the second part is positive and suggests that the first part is not a big problem. The overall sentiment of the sentence is positive.'})\n",
    "jsonl_object.append({'sentence': \"Audacious-impossible yet compelling ...\", \n",
    "                     'label': 'positive',\n",
    "                     'cot': 'The movie is described as \"audacious\" because it gives a \"impossible yet compelling\" story. If something is impossible yet compelling, then it is even more compelling than a normal compelling story. The word \"audacious\" also indicates that the movie is impressive. The overall sentiment of the sentence is positive.'})\n",
    "jsonl_object.append({'sentence': \"The strong subject matter continues to shock throughout the film .\", \n",
    "                     'label': 'positive',\n",
    "                     'cot': 'The word \"shock\" indicates that the audience is \"shocked\" by the \"strong subject matter\", suggesting that the movie does a good job in presenting its subject matter. The overall sentiment of the sentence is positive.'})\n",
    "jsonl_object.append({'sentence': \"Béart and Berling are both superb , while Huppert ... is magnificent .\", \n",
    "                     'label': 'positive',\n",
    "                     'cot': 'The actors are described as \"superb\" and \"magnificent\", both are positive comments. \"Magnificent\" is a very strong positive word. The overall sentiment of the sentence is positive.'})\n",
    "jsonl_object.append({'sentence': \"'Synthetic' is the best description of this well-meaning , beautifully produced film that sacrifices its promise for a high-powered star pedigree .\",\n",
    "                     'label': 'negative',\n",
    "                     'cot': 'The movie is described as \"synthetic\", which is a negative comment. The movie \"sacrifices\" its promise, suggesting it could have been better. The overall sentiment of the sentence is negative.'})\n"
   ]
  },
  {
   "cell_type": "code",
   "execution_count": 4,
   "metadata": {},
   "outputs": [],
   "source": [
    "import pandas as pd\n",
    "df = pd.DataFrame(jsonl_object)\n",
    "\n",
    "# save to jsonl file\n",
    "save_to_path = '/data/rosa/work_in_progress/past-interaction-learning/data/binary_original_sst_with_cot_train8.jsonl'\n",
    "df.to_json(save_to_path, orient='records', lines=True)"
   ]
  }
 ],
 "metadata": {
  "kernelspec": {
   "display_name": "Python 3",
   "language": "python",
   "name": "python3"
  },
  "language_info": {
   "codemirror_mode": {
    "name": "ipython",
    "version": 3
   },
   "file_extension": ".py",
   "mimetype": "text/x-python",
   "name": "python",
   "nbconvert_exporter": "python",
   "pygments_lexer": "ipython3",
   "version": "3.7.15"
  }
 },
 "nbformat": 4,
 "nbformat_minor": 2
}
