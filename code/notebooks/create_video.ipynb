{
 "cells": [
  {
   "cell_type": "code",
   "execution_count": 1,
   "metadata": {},
   "outputs": [],
   "source": [
    "import os\n",
    "import cv2\n",
    "from natsort import os_sorted\n",
    "import moviepy.video.io.ImageSequenceClip\n",
    "import numpy as np"
   ]
  },
  {
   "cell_type": "code",
   "execution_count": 16,
   "metadata": {},
   "outputs": [],
   "source": [
    "# In order to create the video, the images need to be in the same shape\n",
    "# Make a white frame for every image, using the largest image shape as standard\n",
    "# Also, MP4 creation cannot take images with shapes too large, rescale to 0.5\n",
    "def pad_and_scale_image(img,img_standard,scale=0.5):\n",
    "    shape = img_standard.shape\n",
    "    height, width, _ = shape\n",
    "    shape_cv2 = (width,height)\n",
    "\n",
    "    out = 255*np.ones(shape,dtype=np.uint8)\n",
    "    out[:img.shape[0],:img.shape[1],:img.shape[2]] = img\n",
    "    if scale != 1:\n",
    "        shape_scaled = (int(shape_cv2[0]*scale),int(shape_cv2[1]*scale))\n",
    "        out = cv2.resize(out,shape_scaled)\n",
    "    return out\n",
    "\n",
    "\n",
    "def process_visualization_images(images,scale=0.5):\n",
    "    out = []\n",
    "    img_standard = images[-1]\n",
    "    for img in images:\n",
    "        img_padded = pad_and_scale_image(img,img_standard,scale)\n",
    "        out.append(img_padded)\n",
    "    return out"
   ]
  },
  {
   "cell_type": "code",
   "execution_count": 20,
   "metadata": {},
   "outputs": [],
   "source": [
    "image_folder = '/home/haokunliu/past-interaction-learning/visualization_graphics'\n",
    "\n",
    "images = os_sorted([img for img in os.listdir(image_folder) if img.endswith(\".png\")])\n",
    "images_array = []\n",
    "\n",
    "for filename in images:\n",
    "    img = cv2.imread(os.path.join(image_folder, filename))\n",
    "    height, width, layers = img.shape\n",
    "    size = (width,height)\n",
    "    images_array.append(img)\n",
    "\n",
    "scale = 0.5\n",
    "size_scaled = (int(size[0]*scale),int(size[1]*scale))\n",
    " \n",
    "images_array = process_visualization_images(images_array,scale=0.5)\n",
    "\n",
    "out = cv2.VideoWriter('visualization.mp4',cv2.VideoWriter_fourcc(*'mp4v'), 1, size_scaled)\n",
    " \n",
    "for i in range(len(images_array)):\n",
    "    img = images_array[i]\n",
    "    out.write(img)\n",
    "out.release()"
   ]
  }
 ],
 "metadata": {
  "kernelspec": {
   "display_name": "LLMs-new",
   "language": "python",
   "name": "python3"
  },
  "language_info": {
   "codemirror_mode": {
    "name": "ipython",
    "version": 3
   },
   "file_extension": ".py",
   "mimetype": "text/x-python",
   "name": "python",
   "nbconvert_exporter": "python",
   "pygments_lexer": "ipython3",
   "version": "3.12.1"
  }
 },
 "nbformat": 4,
 "nbformat_minor": 2
}
