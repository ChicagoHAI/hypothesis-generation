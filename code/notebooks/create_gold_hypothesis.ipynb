{
 "cells": [
  {
   "cell_type": "code",
   "execution_count": 1,
   "metadata": {},
   "outputs": [],
   "source": [
    "# create gold hypothesis for the sst headline prediction task"
   ]
  },
  {
   "cell_type": "code",
   "execution_count": 2,
   "metadata": {},
   "outputs": [],
   "source": [
    "import pickle\n",
    "import sys\n",
    "sys.path.append('/data/rosa/work_in_progress/past-interaction-learning/code/experiments')\n",
    "from hypotheses_generation import SummaryInformation"
   ]
  },
  {
   "cell_type": "code",
   "execution_count": 3,
   "metadata": {},
   "outputs": [],
   "source": [
    "gold_hypothesis_text = 'Sentences with a positive sentiment are more likely to be selected as the headline. Sentences with a negative sentiment are unlikely to be selected as the headline.'\n",
    "hypotheses = {}\n",
    "hypotheses[gold_hypothesis_text] = SummaryInformation()"
   ]
  },
  {
   "cell_type": "code",
   "execution_count": 4,
   "metadata": {},
   "outputs": [],
   "source": [
    "# save to pickle file\n",
    "with open('/data/rosa/work_in_progress/past-interaction-learning/outputs/sst/hypotheses/gold_hypothesis.pkl', 'wb') as f:\n",
    "    pickle.dump(hypotheses, f)"
   ]
  }
 ],
 "metadata": {
  "kernelspec": {
   "display_name": "Python 3",
   "language": "python",
   "name": "python3"
  },
  "language_info": {
   "codemirror_mode": {
    "name": "ipython",
    "version": 3
   },
   "file_extension": ".py",
   "mimetype": "text/x-python",
   "name": "python",
   "nbconvert_exporter": "python",
   "pygments_lexer": "ipython3",
   "version": "3.7.15"
  }
 },
 "nbformat": 4,
 "nbformat_minor": 2
}
