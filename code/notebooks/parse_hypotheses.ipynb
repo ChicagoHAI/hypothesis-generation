{
 "cells": [
  {
   "cell_type": "code",
   "execution_count": 1,
   "metadata": {},
   "outputs": [],
   "source": [
    "path = \"/data/rosa/work_in_progress/past-interaction-learning/print_log_tmp_debug/binary_original_sst/batched_hypothesis_generation/claude_2_train25_seed49_hypothesis10.txt\""
   ]
  },
  {
   "cell_type": "code",
   "execution_count": 2,
   "metadata": {},
   "outputs": [],
   "source": [
    "text = open(path).read()"
   ]
  },
  {
   "cell_type": "code",
   "execution_count": 3,
   "metadata": {},
   "outputs": [
    {
     "data": {
      "text/plain": [
       "7234"
      ]
     },
     "execution_count": 3,
     "metadata": {},
     "output_type": "execute_result"
    }
   ],
   "source": [
    "len(text)"
   ]
  },
  {
   "cell_type": "code",
   "execution_count": 4,
   "metadata": {},
   "outputs": [
    {
     "data": {
      "text/plain": [
       "'Seed: 49\\nGetting data ...\\ntask_name: binary_original_sst\\nnum examples: 25\\nnum examples: 0\\nInitialize LLM api ...\\n**** batched_learning_hypothesis_generation ****\\nlen(train_data):  25\\nPrompt: \\n ###\\nInstruction:\\nGiven a set of observations, we want to generate a summary that is useful for predicting the sentiment of the sentence. Please be concise and keep the summary to be one-sentence long. Propose 10 possible summaries. Generate them in the format of 1. [summary], 2. [summary], ... 10. [summary]\\n###\\nWe made some observations:\\nThe sentence: \"Much of it is funny , but there are also some startling , surrealistic moments ...\"\\n\\nThe sentiment of the sentence: positive.\\n\\nThe sentence: \"The story has its redundancies , and the young actors , not very experienced , are sometimes inexpressive .\"\\n\\nThe sentiment of the sentence: negative.\\n\\nThe sentence: \"An entertainment so in love with its overinflated mythology that it no longer recognizes the needs of moviegoers for real characters and compelling plots .\"\\n\\nThe sentiment of the sentence: negative.\\n\\nThe sentence: \"Although What Time offers Tsai \\'s usual style and themes , it has a more colorful , more playful tone than his other films .\"\\n\\nThe sentiment of the sentence: positive.\\n\\nThe sentence: \"The only question ... is to determine how well the schmaltz is manufactured -- to assess the quality of the manipulative engineering .\"\\n\\nThe sentiment of the sentence: negative.\\n\\nThe sentence: \"Audacious-impossible yet compelling ...\"\\n\\nThe sentiment of the sentence: positive.\\n\\nThe sentence: \"The strong subject matter continues to shock throughout the film .\"\\n\\nThe sentiment of the sentence: positive.\\n\\nThe sentence: \"Béart and Berling are both superb , while Huppert ... is magnificent .\"\\n\\nThe sentiment of the sentence: positive.\\n\\nThe sentence: \"I do n\\'t even care that there \\'s no plot in this Antonio Banderas-Lucy Liu faceoff .\"\\n\\nThe sentiment of the sentence: positive.\\n\\nThe sentence: \"The off-center humor is a constant , and the ensemble gives it a buoyant delivery .\"\\n\\nThe sentiment of the sentence: positive.\\n\\nThe sentence: \"Even a hardened voyeur would require the patience of Job to get through this interminable , shapeless documentary about the swinging subculture .\"\\n\\nThe sentiment of the sentence: negative.\\n\\nThe sentence: \"Nicole Kidman makes it a party worth attending .\"\\n\\nThe sentiment of the sentence: positive.\\n\\nThe sentence: \"` Stock up on silver bullets for director Neil Marshall \\'s intense freight train of a film . \\'\"\\n\\nThe sentiment of the sentence: positive.\\n\\nThe sentence: \"Connoisseurs of Chinese film will be pleased to discover that Tian \\'s meticulous talent has not withered during his enforced hiatus .\"\\n\\nThe sentiment of the sentence: positive.\\n\\nThe sentence: \"Human Nature , in short , is n\\'t nearly as funny as it thinks it is ; neither is it as smart .\"\\n\\nThe sentiment of the sentence: negative.\\n\\nThe sentence: \"Works better in the conception than it does in the execution ... winds up seeming just a little too clever .\"\\n\\nThe sentiment of the sentence: negative.\\n\\nThe sentence: \"Plays like a glossy melodrama that occasionally verges on camp .\"\\n\\nThe sentiment of the sentence: negative.\\n\\nThe sentence: \"A delicious , quirky movie with a terrific screenplay and fanciful direction by Michael Gondry .\"\\n\\nThe sentiment of the sentence: positive.\\n\\nThe sentence: \"About the only thing to give the movie points for is bravado -- to take an entirely stale concept and push it through the audience \\'s meat grinder one more time .\"\\n\\nThe sentiment of the sentence: negative.\\n\\nThe sentence: \"What bubbles up out of John C. Walsh \\'s Pipe Dream is the distinct and very welcome sense of watching intelligent people making a movie they might actually want to watch .\"\\n\\nThe sentiment of the sentence: positive.\\n\\nThe sentence: \"This is Christmas Future for a lot of baby boomers .\"\\n\\nThe sentiment of the sentence: positive.\\n\\nThe sentence: \"Feels aimless for much of its running time , until late in the film when a tidal wave of plot arrives , leaving questions in its wake .\"\\n\\nThe sentiment of the sentence: negative.\\n\\nThe sentence: \"An artsploitation movie with too much exploitation and too little art .\"\\n\\nThe sentiment of the sentence: negative.\\n\\nThe sentence: \"Bad and baffling from the get-go .\"\\n\\nThe sentiment of the sentence: negative.\\n\\nThe sentence: \"( I ) t \\'s certainly laudable that the movie deals with hot-button issues in a comedic context , but Barbershop is n\\'t as funny as it should be .\"\\n\\nThe sentiment of the sentence: negative.\\n\\nGenerate a summary that is useful for predicting the sentiment of the sentence. Please be concise and keep the summary to be one-sentence long. Propose 10 possible summaries. Generate them in the format of 1. [summary], 2. [summary], ... 10. [summary]\\n\\nprompt length:  4588\\nResponse: \\n  Here are 10 one-sentence summaries that could be useful for predicting sentence sentiment:\\n\\n1. Sentences with positive words like \"funny\", \"superb\", and \"delightful\" tend to convey positive sentiment, while sentences with negative words like \"redundancies\" and \"inexpressive\" tend to have negative sentiment.\\n\\n2. Sentences that describe something as \"compelling\", \"intense\", or \"buoyant\" typically express positive opinions, whereas sentences calling something \"interminable\", \"stale\", or \"aimless\" are more negative.\\n\\n3. Positive sentiment sentences often praise actors\\' performances as \"magnificent\" or say a film is \"worth attending\", while negative sentences may critique \"manipulative engineering\" or a lack of \"real characters\".\\n\\n4. Sentences with positive phrases like \"party worth attending\" and \"wanted to watch\" indicate the author enjoyed the film, but sentences saying a movie \"isn\\'t nearly as funny\" or \"isn\\'t as smart\" suggest disapproval.\\n\\n5. Positive sentiment is conveyed by sentences describing films as \"delicious\", \"quirky\", or predicting audiences will need to \"stock up on silver bullets\", while negativity comes from \"recycled concepts\" and things being \"bad and baffling\". \\n\\n6. Sentences with language around shocking, compelling, or intense films and superb acting tend towards positive sentiment, while redundant, inexpressive, or manipulative films elicit more negative language.\\n\\n7. Positive sentiment often uses words like \"buoyant\", \"pleasing\", and \"superb\" or phrases such as \"worth attending\" and \"wanting to watch\", while negative opinions use vocabulary like \"interminable\", \"stale\", \"baffling\", and aimless\".\\n\\n8. Sentences admiring acting, direction, screenplays or expressing excitement about compelling concepts are positive, while sentences critiquing lack of character development, questioning plot choices or finding comedy unfunny are negative.\\n\\n9. Positive sentiment sentences describe films as intense, quirky, delicious, fanciful or use phrases like \"stock up on silver bullets\", while negative sentences call films shapeless, stale, manipulative or say they lack real characters.  \\n\\n10. Sentences with vocabulary praising performances, direction, concepts tend positive while sentences critiquing comedy, manipulation, aimlessness or redundancies indicate negativity.\\nresponse length:  2313\\n************************************************\\nTime: 1.1871306896209717 seconds\\n'"
      ]
     },
     "execution_count": 4,
     "metadata": {},
     "output_type": "execute_result"
    }
   ],
   "source": [
    "text"
   ]
  },
  {
   "cell_type": "code",
   "execution_count": 5,
   "metadata": {},
   "outputs": [],
   "source": [
    "pattern = r\"\\d+\\.\\s(.*?)(?=\\d+\\.|\\*{3,})\""
   ]
  },
  {
   "cell_type": "code",
   "execution_count": 6,
   "metadata": {},
   "outputs": [],
   "source": [
    "import re"
   ]
  },
  {
   "cell_type": "code",
   "execution_count": 9,
   "metadata": {},
   "outputs": [],
   "source": [
    "pattern = re.compile(r\"Response:(.+?)response length\", re.DOTALL)"
   ]
  },
  {
   "cell_type": "code",
   "execution_count": 11,
   "metadata": {},
   "outputs": [],
   "source": [
    "response_match = pattern.search(text)"
   ]
  },
  {
   "cell_type": "code",
   "execution_count": 13,
   "metadata": {},
   "outputs": [
    {
     "name": "stdout",
     "output_type": "stream",
     "text": [
      "Extracted Text: Here are 10 one-sentence summaries that could be useful for predicting sentence sentiment:\n",
      "\n",
      "1. Sentences with positive words like \"funny\", \"superb\", and \"delightful\" tend to convey positive sentiment, while sentences with negative words like \"redundancies\" and \"inexpressive\" tend to have negative sentiment.\n",
      "\n",
      "2. Sentences that describe something as \"compelling\", \"intense\", or \"buoyant\" typically express positive opinions, whereas sentences calling something \"interminable\", \"stale\", or \"aimless\" are more negative.\n",
      "\n",
      "3. Positive sentiment sentences often praise actors' performances as \"magnificent\" or say a film is \"worth attending\", while negative sentences may critique \"manipulative engineering\" or a lack of \"real characters\".\n",
      "\n",
      "4. Sentences with positive phrases like \"party worth attending\" and \"wanted to watch\" indicate the author enjoyed the film, but sentences saying a movie \"isn't nearly as funny\" or \"isn't as smart\" suggest disapproval.\n",
      "\n",
      "5. Positive sentiment is conveyed by sentences describing films as \"delicious\", \"quirky\", or predicting audiences will need to \"stock up on silver bullets\", while negativity comes from \"recycled concepts\" and things being \"bad and baffling\". \n",
      "\n",
      "6. Sentences with language around shocking, compelling, or intense films and superb acting tend towards positive sentiment, while redundant, inexpressive, or manipulative films elicit more negative language.\n",
      "\n",
      "7. Positive sentiment often uses words like \"buoyant\", \"pleasing\", and \"superb\" or phrases such as \"worth attending\" and \"wanting to watch\", while negative opinions use vocabulary like \"interminable\", \"stale\", \"baffling\", and aimless\".\n",
      "\n",
      "8. Sentences admiring acting, direction, screenplays or expressing excitement about compelling concepts are positive, while sentences critiquing lack of character development, questioning plot choices or finding comedy unfunny are negative.\n",
      "\n",
      "9. Positive sentiment sentences describe films as intense, quirky, delicious, fanciful or use phrases like \"stock up on silver bullets\", while negative sentences call films shapeless, stale, manipulative or say they lack real characters.  \n",
      "\n",
      "10. Sentences with vocabulary praising performances, direction, concepts tend positive while sentences critiquing comedy, manipulation, aimlessness or redundancies indicate negativity.\n"
     ]
    }
   ],
   "source": [
    "if response_match:\n",
    "    # Extract the text between \"Response\" and \"response length\"\n",
    "    extracted_text = response_match.group(1).strip()\n",
    "    print(\"Extracted Text:\", extracted_text)\n",
    "else:\n",
    "    print(\"No match found.\")"
   ]
  },
  {
   "cell_type": "code",
   "execution_count": 23,
   "metadata": {},
   "outputs": [],
   "source": [
    "# Define the regular expression pattern\n",
    "pattern = re.compile(r\"\\d+\\.\\s(.+?)(?=\\d+\\.\\s|\\Z)\", re.DOTALL)\n",
    "\n",
    "# Use re.findall to find all matches\n",
    "numbered_sentences = pattern.findall(extracted_text)"
   ]
  },
  {
   "cell_type": "code",
   "execution_count": 24,
   "metadata": {},
   "outputs": [
    {
     "data": {
      "text/plain": [
       "['Sentences with positive words like \"funny\", \"superb\", and \"delightful\" tend to convey positive sentiment, while sentences with negative words like \"redundancies\" and \"inexpressive\" tend to have negative sentiment.\\n\\n',\n",
       " 'Sentences that describe something as \"compelling\", \"intense\", or \"buoyant\" typically express positive opinions, whereas sentences calling something \"interminable\", \"stale\", or \"aimless\" are more negative.\\n\\n',\n",
       " 'Positive sentiment sentences often praise actors\\' performances as \"magnificent\" or say a film is \"worth attending\", while negative sentences may critique \"manipulative engineering\" or a lack of \"real characters\".\\n\\n',\n",
       " 'Sentences with positive phrases like \"party worth attending\" and \"wanted to watch\" indicate the author enjoyed the film, but sentences saying a movie \"isn\\'t nearly as funny\" or \"isn\\'t as smart\" suggest disapproval.\\n\\n',\n",
       " 'Positive sentiment is conveyed by sentences describing films as \"delicious\", \"quirky\", or predicting audiences will need to \"stock up on silver bullets\", while negativity comes from \"recycled concepts\" and things being \"bad and baffling\". \\n\\n',\n",
       " 'Sentences with language around shocking, compelling, or intense films and superb acting tend towards positive sentiment, while redundant, inexpressive, or manipulative films elicit more negative language.\\n\\n',\n",
       " 'Positive sentiment often uses words like \"buoyant\", \"pleasing\", and \"superb\" or phrases such as \"worth attending\" and \"wanting to watch\", while negative opinions use vocabulary like \"interminable\", \"stale\", \"baffling\", and aimless\".\\n\\n',\n",
       " 'Sentences admiring acting, direction, screenplays or expressing excitement about compelling concepts are positive, while sentences critiquing lack of character development, questioning plot choices or finding comedy unfunny are negative.\\n\\n',\n",
       " 'Positive sentiment sentences describe films as intense, quirky, delicious, fanciful or use phrases like \"stock up on silver bullets\", while negative sentences call films shapeless, stale, manipulative or say they lack real characters.  \\n\\n',\n",
       " 'Sentences with vocabulary praising performances, direction, concepts tend positive while sentences critiquing comedy, manipulation, aimlessness or redundancies indicate negativity.']"
      ]
     },
     "execution_count": 24,
     "metadata": {},
     "output_type": "execute_result"
    }
   ],
   "source": [
    "numbered_sentences"
   ]
  },
  {
   "cell_type": "code",
   "execution_count": 25,
   "metadata": {},
   "outputs": [
    {
     "data": {
      "text/plain": [
       "10"
      ]
     },
     "execution_count": 25,
     "metadata": {},
     "output_type": "execute_result"
    }
   ],
   "source": [
    "len(numbered_sentences)"
   ]
  }
 ],
 "metadata": {
  "kernelspec": {
   "display_name": "Python 3",
   "language": "python",
   "name": "python3"
  },
  "language_info": {
   "codemirror_mode": {
    "name": "ipython",
    "version": 3
   },
   "file_extension": ".py",
   "mimetype": "text/x-python",
   "name": "python",
   "nbconvert_exporter": "python",
   "pygments_lexer": "ipython3",
   "version": "3.7.15"
  }
 },
 "nbformat": 4,
 "nbformat_minor": 2
}
