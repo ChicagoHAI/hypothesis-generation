{
 "cells": [
  {
   "cell_type": "code",
   "execution_count": null,
   "metadata": {},
   "outputs": [],
   "source": [
    "import matplotlib.pyplot as plt\n",
    "import random\n",
    "import sys\n",
    "\n",
    "sys.path.append('../')\n",
    "from utils import prep_shoe_data\n",
    "from data_loader import get_data\n",
    "\n",
    "from lin_ucb.lin_ucb import LinearUCB\n",
    "from lin_ucb.bandit import ContextualBandit\n",
    "from lin_ucb.dataset.ucb_dataset import ShoeDataset"
   ]
  },
  {
   "cell_type": "code",
   "execution_count": null,
   "metadata": {},
   "outputs": [],
   "source": [
    "def train_lin_ucb(seed, alpha, num_train, task='shoe', num_test=100, num_arms=6, num_features=7):\n",
    "    # Set up\n",
    "    seed = seed\n",
    "    alpha = alpha\n",
    "    random.seed(seed)\n",
    "\n",
    "    # Training prep\n",
    "    train_data, test_data = get_data(task, num_train, num_test)\n",
    "    train_x, train_y = prep_shoe_data(train_data)\n",
    "    train_dataset = ShoeDataset(x=train_x, y=train_y)\n",
    "    train_bandit = ContextualBandit(T=num_train, n_arms=num_arms, seed=seed, dataset=train_dataset)\n",
    "\n",
    "    # Training\n",
    "    linucb = LinearUCB(bandit=train_bandit, num_features=num_features, alpha=alpha)\n",
    "    linucb.train()\n",
    "    train_acc = round(1-sum(linucb.regrets)/len(linucb.regrets), 3)\n",
    "\n",
    "    # Testing prep\n",
    "    test_x, test_y = prep_shoe_data(test_data)\n",
    "    test_dataset = ShoeDataset(x=test_x, y=test_y)\n",
    "    test_bandit = ContextualBandit(T=num_test, n_arms=num_arms, seed=seed, dataset=test_dataset)\n",
    "\n",
    "    # Testing\n",
    "    linucb.test(test_bandit)\n",
    "    test_acc = round(1-sum(linucb.regrets)/len(linucb.regrets), 3)\n",
    "\n",
    "\n",
    "    return train_acc, test_acc"
   ]
  },
  {
   "cell_type": "code",
   "execution_count": null,
   "metadata": {},
   "outputs": [],
   "source": [
    "train_acc_by_alpha = {}\n",
    "test_acc_by_alpha = {}\n",
    "for alpha in [0.0, 0.01, 0.05, 0.1, 0.3, 0.5, 1.0, 2.0, 4.0]:\n",
    "    for seed in [0, 1, 2, 3, 4]:\n",
    "        train_acc, test_acc = train_lin_ucb(seed, alpha, num_train=100)\n",
    "        if alpha in train_acc_by_alpha:\n",
    "            train_acc_by_alpha[alpha].append(train_acc)\n",
    "        else:\n",
    "            train_acc_by_alpha[alpha] = [train_acc]\n",
    "        if alpha in test_acc_by_alpha:\n",
    "            test_acc_by_alpha[alpha].append(test_acc)\n",
    "        else:\n",
    "            test_acc_by_alpha[alpha] = [test_acc]\n",
    "\n",
    "print(f'train_acc_by_alpha: {train_acc_by_alpha}')\n",
    "for alpha in train_acc_by_alpha:\n",
    "    print(f'alpha: {alpha}, average train_acc: {round(sum(train_acc_by_alpha[alpha])/len(train_acc_by_alpha[alpha]), 3)}')\n",
    "\n",
    "print(f'test_acc_by_alpha: {test_acc_by_alpha}')\n",
    "for alpha in test_acc_by_alpha:\n",
    "    print(f'alpha: {alpha}, average test_acc: {round(sum(test_acc_by_alpha[alpha])/len(test_acc_by_alpha[alpha]), 3)}')"
   ]
  }
 ],
 "metadata": {
  "kernelspec": {
   "display_name": "Python 3",
   "language": "python",
   "name": "python3"
  },
  "language_info": {
   "codemirror_mode": {
    "name": "ipython",
    "version": 3
   },
   "file_extension": ".py",
   "mimetype": "text/x-python",
   "name": "python",
   "nbconvert_exporter": "python",
   "pygments_lexer": "ipython3",
   "version": "3.7.15"
  },
  "orig_nbformat": 4
 },
 "nbformat": 4,
 "nbformat_minor": 2
}
