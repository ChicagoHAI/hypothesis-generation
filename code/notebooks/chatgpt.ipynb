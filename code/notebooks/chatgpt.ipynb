{
 "cells": [
  {
   "cell_type": "code",
   "execution_count": 1,
   "metadata": {},
   "outputs": [
    {
     "name": "stdout",
     "output_type": "stream",
     "text": [
      "Environment variable not set.\n",
      "Code repo path: /data/rosa/work_in_progress/past-interaction-learning/\n"
     ]
    }
   ],
   "source": [
    "import sys\n",
    "sys.path.append(f'../')\n",
    "from utils import *"
   ]
  },
  {
   "cell_type": "code",
   "execution_count": 2,
   "metadata": {},
   "outputs": [],
   "source": [
    "api = LLMWrapper('turbo35_0613')"
   ]
  },
  {
   "cell_type": "markdown",
   "metadata": {},
   "source": [
    "### shoe dataset, compare using summary and hypothesis in prompt"
   ]
  },
  {
   "cell_type": "code",
   "execution_count": 3,
   "metadata": {},
   "outputs": [],
   "source": [
    "prompt='''###\n",
    "Instruction:\n",
    "Given a set of observations, we want to generate a summary that is useful for predicting the color of the shoes given the appearance of the person. Please be concise and keep the summary to be one-sentence long. Propose 5 possible summaries. Generate them in the format of 1. [summary], 2. [summary], ... 5. [summary].\n",
    "###\n",
    "We made some observations:\n",
    "The customer's appearance: a young and tall man with green hat, red shirt, and a small red bag. The customer bought a pair of red shoes.\n",
    "The customer's appearance: a old and short woman with red hat, green shirt, and a large green bag. The customer bought a pair of green shoes.\n",
    "The customer's appearance: a young and short man with black hat, orange shirt, and a large green bag. The customer bought a pair of orange shoes.\n",
    "The customer's appearance: a old and tall woman with red hat, blue shirt, and a large white bag. The customer bought a pair of blue shoes.\n",
    "The customer's appearance: a old and tall woman with red hat, blue shirt, and a small blue bag. The customer bought a pair of blue shoes.\n",
    "Generate a summary that is useful for predicting the color of the shoes. Please be concise and keep the summary to be one-sentence long. Propose 5 possible summaries. Generate them in the format of 1. [summary], 2. [summary], ... 5. [summary]\n",
    "'''"
   ]
  },
  {
   "cell_type": "code",
   "execution_count": 4,
   "metadata": {},
   "outputs": [
    {
     "name": "stdout",
     "output_type": "stream",
     "text": [
      "1. Customers wearing red hats tend to buy red shoes.\n",
      "2. The color of the customer's shirt is a good indicator of the color of shoes they will buy.\n",
      "3. Older customers prefer blue shoes.\n",
      "4. Customers with green bags are more likely to buy green shoes.\n",
      "5. The appearance of the person, including their hat color and bag size, can help predict the color of the shoes they will purchase.\n"
     ]
    }
   ],
   "source": [
    "print(api.generate(prompt))"
   ]
  },
  {
   "cell_type": "code",
   "execution_count": 5,
   "metadata": {},
   "outputs": [],
   "source": [
    "prompt='''###\n",
    "Instruction:\n",
    "Given a set of observations, we want to generate hypotheses that are useful for predicting the color of the shoes given the appearance of the person. Please be concise and keep each hypothesis to be one-sentence long. Propose 5 possible hypotheses. Generate them in the format of 1. [hypothesis], 2. [hypothesis], ... 5. [hypothesis]. Please make the hypotheses general enough to be applicable to new observations.\n",
    "###\n",
    "We made some observations:\n",
    "The customer's appearance: a young and tall man with green hat, red shirt, and a small red bag. The customer bought a pair of red shoes.\n",
    "The customer's appearance: a old and short woman with red hat, green shirt, and a large green bag. The customer bought a pair of green shoes.\n",
    "The customer's appearance: a young and short man with black hat, orange shirt, and a large green bag. The customer bought a pair of orange shoes.\n",
    "The customer's appearance: a old and tall woman with red hat, blue shirt, and a large white bag. The customer bought a pair of blue shoes.\n",
    "The customer's appearance: a old and tall woman with red hat, blue shirt, and a small blue bag. The customer bought a pair of blue shoes.\n",
    "Generate hypotheses that are useful for predicting the color of the shoes. Please be concise and keep each hypothesis to be one-sentence long. Propose 5 possible hypotheses. Generate them in the format of 1. [hypothesis], 2. [hypothesis], ... 5. [hypothesis]\n",
    "'''"
   ]
  },
  {
   "cell_type": "code",
   "execution_count": 6,
   "metadata": {},
   "outputs": [
    {
     "name": "stdout",
     "output_type": "stream",
     "text": [
      "1. Customers wearing red hats are more likely to buy red shoes.\n",
      "2. Customers wearing green shirts are more likely to buy green shoes.\n",
      "3. Customers with small bags are more likely to buy shoes in a matching color.\n",
      "4. Older customers are more likely to buy shoes in traditional colors like blue and red.\n",
      "5. Customers with large bags are more likely to buy shoes in bold or vibrant colors like orange and green.\n"
     ]
    }
   ],
   "source": [
    "print(api.generate(prompt))"
   ]
  },
  {
   "cell_type": "markdown",
   "metadata": {},
   "source": [
    "### hotel review dataset"
   ]
  },
  {
   "cell_type": "code",
   "execution_count": 7,
   "metadata": {},
   "outputs": [],
   "source": [
    "prompt='''###\n",
    "Instruction:\n",
    "Given a set of hotel reviews, we want to generate a summary that is useful for predicting whether a review is truthful or deceptive. In other words, we want to know whether the review is written by a someone who actually lived in the hotel.\n",
    "Please be concise and keep the summary to be one-sentence long. Propose 4 possible summaries. Generate them in the format of 1. [summary], 2. [summary], ... 4. [summary].\n",
    "###\n",
    "We have seen some hotel reviews:\n",
    "A hotel review is the following: \"Hello, I recently stayed at the Affinia hotel in Chicago, and was very unhappy when I learned of additional charges upon arrival. When I made the reservations over the phone there was no mention of any internet or parking fees. When I arrive I'm told fee to valet park is $49 per day, plus another $10 for internet. This is just plain ridiculous, and will remember not to stay here in future. There's too many other fine hotels that don't charge these fees.\n",
    "\"\n",
    "\n",
    "The review is: deceptive.\n",
    "\n",
    "A hotel review is the following: \" My wife and I's stay at the Sheraton Chicago Hotel and Towers proved to be the perfect complement to our time spent visiting and exploring the Windy City. Upon our arrival, we were immediately welcomed by the beautiful design of the first-floor lobby and the friendly demeanor of the desk and bell service staff. In seemingly no time at all we were in our clean and well-furnished room with a beautiful and peaceful view of Lake Michigan. In terms of accommodations, I have never personally stayed at a hotel that I could complement more. On our very first night, my wife took advantage of a message therapy session while I swam a few laps in the heated indoor swimming pool. We followed our time apart with a very relaxing time at the Chi bar, which had a very enlivening and laid-back atmosphere. Retiring to our rooms, I couldn't help but remark to my wife about the quality of our room and the bed in particular. I had a very comfortable night's sleep and woke up just on time thanks to a spot-on wake up call from the desk staff. After a quick bite to eat the LB Bistro, we headed out to sight-see. Overall, I can't recommend the Sheraton Chicago Hotel and Towers enough. As far as this customer is concerned, it is the only place to stay if you are in the Chicago area and are looking for accommodations with the best customer service, atmosphere, and amenities. I couldn't recommend it more. \n",
    "\"\n",
    "\n",
    "The review is: deceptive.\n",
    "\n",
    "A hotel review is the following: \"I'm sitting in the hotel as I right this review and am not impressed with the room. The hotel is not modern in the least - it feels like you're staying in your grandmother's attic. Wallpaper is peeling off the wall, not well lit, very few outlets in the room -- especially convenient ones (none next to the bed or built into lamps), terrible views and loud construction noises woke me up at 7am. Even the location is off the beaten path - closest L stop is on the Red Line -- so not accessible via the loop stops on the blue line from the airport without transferring. Health club is not on site either. There are hundreds of other hotels I would stay in over this one.\n",
    "\"\n",
    "\n",
    "The review is: truthful.\n",
    "\n",
    "A hotel review is the following: \"I was going to Chicago last month and wanted a nice hotel that was close to restaurants and shops. I did some research and believed the InterContinental would suit my needs. I sure was not disappointed by my decision! This hotel lots of historic charm. Despite being a larger hotel, the service was top shelf! The rooms, while not large by any means, were extremely well-appointed and very comfortable. My kids loved the big swimming pool that the hotel offered. As for me, I was more impressed with the location to the Magnificent Mile. The hotel also has a nice restaurant on-site. The food was very good and, just like the hotel itself, the restaurant provided perfect customer service. Dollar for dollar, the InterContinental in Chicago is a great deal and I will be staying there again. \n",
    "\"\n",
    "\n",
    "The review is: deceptive.\n",
    "\n",
    "Generate a summary that is useful for predicting whether a review is truthful or deceptive. Please be concise and keep the summary to be one-sentence long. Propose 4 possible summaries. Generate them in the format of 1. [summary], 2. [summary], ... 4. [summary]\n",
    "'''"
   ]
  },
  {
   "cell_type": "code",
   "execution_count": 8,
   "metadata": {},
   "outputs": [
    {
     "name": "stdout",
     "output_type": "stream",
     "text": [
      "1. The review is deceptive.\n",
      "2. The review is deceptive.\n",
      "3. The review is truthful.\n",
      "4. The review is deceptive.\n"
     ]
    }
   ],
   "source": [
    "print(api.generate(prompt))"
   ]
  },
  {
   "cell_type": "code",
   "execution_count": 9,
   "metadata": {},
   "outputs": [],
   "source": [
    "prompt='''###\n",
    "Instruction:\n",
    "Given a set of hotel reviews, we want to generate hypotheses that are useful for predicting whether a review is truthful or deceptive. In other words, we want to know whether the review is written by a someone who actually lived in the hotel.\n",
    "Please be concise and keep each hypothesis to be one-sentence long. Propose 4 possible hypotheses. Generate them in the format of 1. [hypothesis], 2. [hypothesis], ... 4. [hypothesis]. The hypotheses should analyze what kind of reviews are likely to be truthful or deceptive.\n",
    "###\n",
    "We have seen some hotel reviews:\n",
    "A hotel review is the following: \"Hello, I recently stayed at the Affinia hotel in Chicago, and was very unhappy when I learned of additional charges upon arrival. When I made the reservations over the phone there was no mention of any internet or parking fees. When I arrive I'm told fee to valet park is $49 per day, plus another $10 for internet. This is just plain ridiculous, and will remember not to stay here in future. There's too many other fine hotels that don't charge these fees.\n",
    "\"\n",
    "\n",
    "The review is: deceptive.\n",
    "\n",
    "A hotel review is the following: \" My wife and I's stay at the Sheraton Chicago Hotel and Towers proved to be the perfect complement to our time spent visiting and exploring the Windy City. Upon our arrival, we were immediately welcomed by the beautiful design of the first-floor lobby and the friendly demeanor of the desk and bell service staff. In seemingly no time at all we were in our clean and well-furnished room with a beautiful and peaceful view of Lake Michigan. In terms of accommodations, I have never personally stayed at a hotel that I could complement more. On our very first night, my wife took advantage of a message therapy session while I swam a few laps in the heated indoor swimming pool. We followed our time apart with a very relaxing time at the Chi bar, which had a very enlivening and laid-back atmosphere. Retiring to our rooms, I couldn't help but remark to my wife about the quality of our room and the bed in particular. I had a very comfortable night's sleep and woke up just on time thanks to a spot-on wake up call from the desk staff. After a quick bite to eat the LB Bistro, we headed out to sight-see. Overall, I can't recommend the Sheraton Chicago Hotel and Towers enough. As far as this customer is concerned, it is the only place to stay if you are in the Chicago area and are looking for accommodations with the best customer service, atmosphere, and amenities. I couldn't recommend it more. \n",
    "\"\n",
    "\n",
    "The review is: deceptive.\n",
    "\n",
    "A hotel review is the following: \"I'm sitting in the hotel as I right this review and am not impressed with the room. The hotel is not modern in the least - it feels like you're staying in your grandmother's attic. Wallpaper is peeling off the wall, not well lit, very few outlets in the room -- especially convenient ones (none next to the bed or built into lamps), terrible views and loud construction noises woke me up at 7am. Even the location is off the beaten path - closest L stop is on the Red Line -- so not accessible via the loop stops on the blue line from the airport without transferring. Health club is not on site either. There are hundreds of other hotels I would stay in over this one.\n",
    "\"\n",
    "\n",
    "The review is: truthful.\n",
    "\n",
    "A hotel review is the following: \"I was going to Chicago last month and wanted a nice hotel that was close to restaurants and shops. I did some research and believed the InterContinental would suit my needs. I sure was not disappointed by my decision! This hotel lots of historic charm. Despite being a larger hotel, the service was top shelf! The rooms, while not large by any means, were extremely well-appointed and very comfortable. My kids loved the big swimming pool that the hotel offered. As for me, I was more impressed with the location to the Magnificent Mile. The hotel also has a nice restaurant on-site. The food was very good and, just like the hotel itself, the restaurant provided perfect customer service. Dollar for dollar, the InterContinental in Chicago is a great deal and I will be staying there again. \n",
    "\"\n",
    "\n",
    "The review is: deceptive.\n",
    "\n",
    "Generate hypotheses that are useful for predicting whether a review is truthful or deceptive. Please be concise and keep each hypothesis to be one-sentence long. Propose 4 possible hypotheses. Generate them in the format of 1. [hypothesis], 2. [hypothesis], ... 4. [hypothesis]\n",
    "'''"
   ]
  },
  {
   "cell_type": "code",
   "execution_count": 10,
   "metadata": {},
   "outputs": [
    {
     "name": "stdout",
     "output_type": "stream",
     "text": [
      "1. Reviews that mention unexpected charges or fees are more likely to be deceptive.\n",
      "2. Reviews that provide specific details about the hotel's design, amenities, and customer service are more likely to be deceptive.\n",
      "3. Reviews that mention negative aspects such as peeling wallpaper, noise disturbances, and inconvenient location are more likely to be truthful.\n",
      "4. Reviews that mention the hotel's location, nearby attractions, and positive experiences with staff and amenities are more likely to be deceptive.\n"
     ]
    }
   ],
   "source": [
    "print(api.generate(prompt))"
   ]
  },
  {
   "cell_type": "code",
   "execution_count": 11,
   "metadata": {},
   "outputs": [],
   "source": [
    "prompt='''###\n",
    "Instruction:\n",
    "Given a set of hotel reviews, we want to generate a summary that is useful for predicting whether a review is truthful or deceptive. In other words, we want to know whether the review is written by a someone who actually lived in the hotel.\n",
    "Please be concise and keep the summary to be one-sentence long. Propose 4 possible summaries. Generate them in the format of 1. [summary], 2. [summary], ... 4. [summary]\n",
    "###\n",
    "We have seen some hotel reviews:\n",
    "A deceptive hotel review is the following: \"Hello, I recently stayed at the Affinia hotel in Chicago, and was very unhappy when I learned of additional charges upon arrival. When I made the reservations over the phone there was no mention of any internet or parking fees. When I arrive I'm told fee to valet park is $49 per day, plus another $10 for internet. This is just plain ridiculous, and will remember not to stay here in future. There's too many other fine hotels that don't charge these fees.\n",
    "\"\n",
    "\n",
    "A deceptive hotel review is the following: \" My wife and I's stay at the Sheraton Chicago Hotel and Towers proved to be the perfect complement to our time spent visiting and exploring the Windy City. Upon our arrival, we were immediately welcomed by the beautiful design of the first-floor lobby and the friendly demeanor of the desk and bell service staff. In seemingly no time at all we were in our clean and well-furnished room with a beautiful and peaceful view of Lake Michigan. In terms of accommodations, I have never personally stayed at a hotel that I could complement more. On our very first night, my wife took advantage of a message therapy session while I swam a few laps in the heated indoor swimming pool. We followed our time apart with a very relaxing time at the Chi bar, which had a very enlivening and laid-back atmosphere. Retiring to our rooms, I couldn't help but remark to my wife about the quality of our room and the bed in particular. I had a very comfortable night's sleep and woke up just on time thanks to a spot-on wake up call from the desk staff. After a quick bite to eat the LB Bistro, we headed out to sight-see. Overall, I can't recommend the Sheraton Chicago Hotel and Towers enough. As far as this customer is concerned, it is the only place to stay if you are in the Chicago area and are looking for accommodations with the best customer service, atmosphere, and amenities. I couldn't recommend it more. \n",
    "\"\n",
    "\n",
    "A truthful hotel review is the following: \"I'm sitting in the hotel as I right this review and am not impressed with the room. The hotel is not modern in the least - it feels like you're staying in your grandmother's attic. Wallpaper is peeling off the wall, not well lit, very few outlets in the room -- especially convenient ones (none next to the bed or built into lamps), terrible views and loud construction noises woke me up at 7am. Even the location is off the beaten path - closest L stop is on the Red Line -- so not accessible via the loop stops on the blue line from the airport without transferring. Health club is not on site either. There are hundreds of other hotels I would stay in over this one.\n",
    "\"\n",
    "\n",
    "A deceptive hotel review is the following: \"I was going to Chicago last month and wanted a nice hotel that was close to restaurants and shops. I did some research and believed the InterContinental would suit my needs. I sure was not disappointed by my decision! This hotel lots of historic charm. Despite being a larger hotel, the service was top shelf! The rooms, while not large by any means, were extremely well-appointed and very comfortable. My kids loved the big swimming pool that the hotel offered. As for me, I was more impressed with the location to the Magnificent Mile. The hotel also has a nice restaurant on-site. The food was very good and, just like the hotel itself, the restaurant provided perfect customer service. Dollar for dollar, the InterContinental in Chicago is a great deal and I will be staying there again. \n",
    "\"\n",
    "\n",
    "Generate a summary that is useful for predicting whether a review is truthful or deceptive. Please be concise and keep the summary to be one-sentence long. Propose 4 possible summaries. Generate them in the format of 1. [summary], 2. [summary], ... 4. [summary]\n",
    "'''"
   ]
  },
  {
   "cell_type": "code",
   "execution_count": 12,
   "metadata": {},
   "outputs": [
    {
     "name": "stdout",
     "output_type": "stream",
     "text": [
      "1. Deceptive review: Unhappy with unexpected charges and plans to avoid staying there again.\n",
      "2. Deceptive review: Highly recommends the Sheraton Chicago Hotel and Towers with praise for its amenities and customer service.\n",
      "3. Truthful review: Not impressed with the outdated room, lack of convenience, and noisy construction.\n",
      "4. Deceptive review: Extremely satisfied with the InterContinental hotel's historic charm, excellent service, and convenient location.\n"
     ]
    }
   ],
   "source": [
    "print(api.generate(prompt))"
   ]
  },
  {
   "cell_type": "code",
   "execution_count": 13,
   "metadata": {},
   "outputs": [],
   "source": [
    "prompt='''###\n",
    "Instruction:\n",
    "Given a set of hotel reviews, we want to generate hypotheses that are useful for predicting whether a review is truthful or deceptive. In other words, we want to know whether the review is written by a someone who actually lived in the hotel.\n",
    "Please be concise and keep each hypothesis to be one-sentence long. Propose 4 possible hypotheses. Generate them in the format of 1. [hypothesis], 2. [hypothesis], ... 4. [hypothesis]\n",
    "###\n",
    "We have seen some hotel reviews:\n",
    "A deceptive hotel review is the following: \"Hello, I recently stayed at the Affinia hotel in Chicago, and was very unhappy when I learned of additional charges upon arrival. When I made the reservations over the phone there was no mention of any internet or parking fees. When I arrive I'm told fee to valet park is $49 per day, plus another $10 for internet. This is just plain ridiculous, and will remember not to stay here in future. There's too many other fine hotels that don't charge these fees.\n",
    "\"\n",
    "\n",
    "A deceptive hotel review is the following: \" My wife and I's stay at the Sheraton Chicago Hotel and Towers proved to be the perfect complement to our time spent visiting and exploring the Windy City. Upon our arrival, we were immediately welcomed by the beautiful design of the first-floor lobby and the friendly demeanor of the desk and bell service staff. In seemingly no time at all we were in our clean and well-furnished room with a beautiful and peaceful view of Lake Michigan. In terms of accommodations, I have never personally stayed at a hotel that I could complement more. On our very first night, my wife took advantage of a message therapy session while I swam a few laps in the heated indoor swimming pool. We followed our time apart with a very relaxing time at the Chi bar, which had a very enlivening and laid-back atmosphere. Retiring to our rooms, I couldn't help but remark to my wife about the quality of our room and the bed in particular. I had a very comfortable night's sleep and woke up just on time thanks to a spot-on wake up call from the desk staff. After a quick bite to eat the LB Bistro, we headed out to sight-see. Overall, I can't recommend the Sheraton Chicago Hotel and Towers enough. As far as this customer is concerned, it is the only place to stay if you are in the Chicago area and are looking for accommodations with the best customer service, atmosphere, and amenities. I couldn't recommend it more. \n",
    "\"\n",
    "\n",
    "A truthful hotel review is the following: \"I'm sitting in the hotel as I right this review and am not impressed with the room. The hotel is not modern in the least - it feels like you're staying in your grandmother's attic. Wallpaper is peeling off the wall, not well lit, very few outlets in the room -- especially convenient ones (none next to the bed or built into lamps), terrible views and loud construction noises woke me up at 7am. Even the location is off the beaten path - closest L stop is on the Red Line -- so not accessible via the loop stops on the blue line from the airport without transferring. Health club is not on site either. There are hundreds of other hotels I would stay in over this one.\n",
    "\"\n",
    "\n",
    "A deceptive hotel review is the following: \"I was going to Chicago last month and wanted a nice hotel that was close to restaurants and shops. I did some research and believed the InterContinental would suit my needs. I sure was not disappointed by my decision! This hotel lots of historic charm. Despite being a larger hotel, the service was top shelf! The rooms, while not large by any means, were extremely well-appointed and very comfortable. My kids loved the big swimming pool that the hotel offered. As for me, I was more impressed with the location to the Magnificent Mile. The hotel also has a nice restaurant on-site. The food was very good and, just like the hotel itself, the restaurant provided perfect customer service. Dollar for dollar, the InterContinental in Chicago is a great deal and I will be staying there again. \n",
    "\"\n",
    "\n",
    "Generate hypotheses that are useful for predicting whether a review is truthful or deceptive. Please be concise and keep each hypothesis to be one-sentence long. Propose 4 possible hypotheses. Generate them in the format of 1. [hypothesis], 2. [hypothesis], ... 4. [hypothesis]\n",
    "'''"
   ]
  },
  {
   "cell_type": "code",
   "execution_count": 14,
   "metadata": {},
   "outputs": [
    {
     "name": "stdout",
     "output_type": "stream",
     "text": [
      "1. Reviews that mention unexpected fees or charges are more likely to be deceptive.\n",
      "2. Reviews that extensively praise multiple aspects of the hotel experience are more likely to be deceptive.\n",
      "3. Reviews that highlight specific negative aspects of the hotel, such as peeling wallpaper or noise issues, are more likely to be truthful.\n",
      "4. Reviews that emphasize the hotel's location and nearby attractions are more likely to be deceptive.\n"
     ]
    }
   ],
   "source": [
    "print(api.generate(prompt))"
   ]
  }
 ],
 "metadata": {
  "kernelspec": {
   "display_name": "Python 3",
   "language": "python",
   "name": "python3"
  },
  "language_info": {
   "codemirror_mode": {
    "name": "ipython",
    "version": 3
   },
   "file_extension": ".py",
   "mimetype": "text/x-python",
   "name": "python",
   "nbconvert_exporter": "python",
   "pygments_lexer": "ipython3",
   "version": "3.7.15"
  }
 },
 "nbformat": 4,
 "nbformat_minor": 2
}
