{
 "cells": [
  {
   "cell_type": "code",
   "execution_count": null,
   "metadata": {},
   "outputs": [],
   "source": [
    "from anthropic import Anthropic, HUMAN_PROMPT, AI_PROMPT\n",
    "\n",
    "# Set up API key \n",
    "api_key = open('/data/rosa/work_in_progress/past-interaction-learning/claude_key.txt', 'r').read().strip()\n",
    "\n",
    "anthropic = Anthropic(\n",
    "    # defaults to os.environ.get(\"ANTHROPIC_API_KEY\")\n",
    "    api_key=api_key,\n",
    ")"
   ]
  },
  {
   "cell_type": "code",
   "execution_count": null,
   "metadata": {},
   "outputs": [],
   "source": [
    "completion = anthropic.completions.create(\n",
    "    model=\"claude-2\",\n",
    "    max_tokens_to_sample=300,\n",
    "    prompt=f\"{HUMAN_PROMPT} How many toes do dogs have?{AI_PROMPT}\",\n",
    ")\n",
    "print(completion.completion)"
   ]
  },
  {
   "cell_type": "code",
   "execution_count": null,
   "metadata": {},
   "outputs": [],
   "source": [
    "HUMAN_PROMPT"
   ]
  },
  {
   "cell_type": "code",
   "execution_count": null,
   "metadata": {},
   "outputs": [],
   "source": [
    "AI_PROMPT"
   ]
  },
  {
   "cell_type": "code",
   "execution_count": 1,
   "metadata": {},
   "outputs": [
    {
     "name": "stdout",
     "output_type": "stream",
     "text": [
      "Environment variable not set.\n",
      "Code repo path: /data/rosa/work_in_progress/past-interaction-learning/\n"
     ]
    }
   ],
   "source": [
    "import sys\n",
    "sys.path.append(f'../')\n",
    "from utils import *"
   ]
  },
  {
   "cell_type": "code",
   "execution_count": 2,
   "metadata": {},
   "outputs": [],
   "source": [
    "api = LLMWrapper('claude_2')"
   ]
  },
  {
   "cell_type": "markdown",
   "metadata": {},
   "source": [
    "### shoe dataset"
   ]
  },
  {
   "cell_type": "code",
   "execution_count": null,
   "metadata": {},
   "outputs": [],
   "source": [
    "prompt='''###\n",
    "Instruction:\n",
    "Given a set of observations, we want to generate a summary that is useful for predicting the color of the shoes given the appearance of the person. Please be concise and keep the summary to be one-sentence long. Propose 5 possible summaries. Generate them in the format of 1. [summary], 2. [summary], ... 5. [summary].\n",
    "###\n",
    "We made some observations:\n",
    "The customer's appearance: a young and tall man with green hat, red shirt, and a small red bag. The customer bought a pair of red shoes.\n",
    "The customer's appearance: a old and short woman with red hat, green shirt, and a large green bag. The customer bought a pair of green shoes.\n",
    "The customer's appearance: a young and short man with black hat, orange shirt, and a large green bag. The customer bought a pair of orange shoes.\n",
    "The customer's appearance: a old and tall woman with red hat, blue shirt, and a large white bag. The customer bought a pair of blue shoes.\n",
    "The customer's appearance: a old and tall woman with red hat, blue shirt, and a small blue bag. The customer bought a pair of blue shoes.\n",
    "Generate a summary that is useful for predicting the color of the shoes. Please be concise and keep the summary to be one-sentence long. Propose 5 possible summaries. Generate them in the format of 1. [summary], 2. [summary], ... 5. [summary]\n",
    "'''"
   ]
  },
  {
   "cell_type": "code",
   "execution_count": null,
   "metadata": {},
   "outputs": [],
   "source": [
    "print(api.generate(prompt))"
   ]
  },
  {
   "cell_type": "code",
   "execution_count": null,
   "metadata": {},
   "outputs": [],
   "source": [
    "prompt='''###\n",
    "Instruction:\n",
    "Given a set of observations, we want to generate hypotheses that are useful for predicting the color of the shoes given the appearance of the person. Please be concise and keep each hypothesis to be one-sentence long. Propose 5 possible hypotheses. Generate them in the format of 1. [hypothesis], 2. [hypothesis], ... 5. [hypothesis]. Please make the hypotheses general enough to be applicable to new observations.\n",
    "###\n",
    "We made some observations:\n",
    "The customer's appearance: a young and tall man with green hat, red shirt, and a small red bag. The customer bought a pair of red shoes.\n",
    "The customer's appearance: a old and short woman with red hat, green shirt, and a large green bag. The customer bought a pair of green shoes.\n",
    "The customer's appearance: a young and short man with black hat, orange shirt, and a large green bag. The customer bought a pair of orange shoes.\n",
    "The customer's appearance: a old and tall woman with red hat, blue shirt, and a large white bag. The customer bought a pair of blue shoes.\n",
    "The customer's appearance: a old and tall woman with red hat, blue shirt, and a small blue bag. The customer bought a pair of blue shoes.\n",
    "Generate hypotheses that are useful for predicting the color of the shoes. Please be concise and keep each hypothesis to be one-sentence long. Propose 5 possible hypotheses. Generate them in the format of 1. [hypothesis], 2. [hypothesis], ... 5. [hypothesis]\n",
    "'''"
   ]
  },
  {
   "cell_type": "code",
   "execution_count": null,
   "metadata": {},
   "outputs": [],
   "source": [
    "print(api.generate(prompt))"
   ]
  },
  {
   "cell_type": "markdown",
   "metadata": {},
   "source": [
    "### hotel reviews dataset"
   ]
  },
  {
   "cell_type": "code",
   "execution_count": null,
   "metadata": {},
   "outputs": [],
   "source": [
    "prompt='''###\n",
    "Instruction:\n",
    "Given a set of hotel reviews, we want to generate a summary that is useful for predicting whether a review is truthful or deceptive. In other words, we want to know whether the review is written by a someone who actually lived in the hotel.\n",
    "Please be concise and keep the summary to be one-sentence long. Propose 4 possible summaries. Generate them in the format of 1. [summary], 2. [summary], ... 4. [summary].\n",
    "###\n",
    "We have seen some hotel reviews:\n",
    "A hotel review is the following: \"Hello, I recently stayed at the Affinia hotel in Chicago, and was very unhappy when I learned of additional charges upon arrival. When I made the reservations over the phone there was no mention of any internet or parking fees. When I arrive I'm told fee to valet park is $49 per day, plus another $10 for internet. This is just plain ridiculous, and will remember not to stay here in future. There's too many other fine hotels that don't charge these fees.\n",
    "\"\n",
    "\n",
    "The review is: deceptive.\n",
    "\n",
    "A hotel review is the following: \" My wife and I's stay at the Sheraton Chicago Hotel and Towers proved to be the perfect complement to our time spent visiting and exploring the Windy City. Upon our arrival, we were immediately welcomed by the beautiful design of the first-floor lobby and the friendly demeanor of the desk and bell service staff. In seemingly no time at all we were in our clean and well-furnished room with a beautiful and peaceful view of Lake Michigan. In terms of accommodations, I have never personally stayed at a hotel that I could complement more. On our very first night, my wife took advantage of a message therapy session while I swam a few laps in the heated indoor swimming pool. We followed our time apart with a very relaxing time at the Chi bar, which had a very enlivening and laid-back atmosphere. Retiring to our rooms, I couldn't help but remark to my wife about the quality of our room and the bed in particular. I had a very comfortable night's sleep and woke up just on time thanks to a spot-on wake up call from the desk staff. After a quick bite to eat the LB Bistro, we headed out to sight-see. Overall, I can't recommend the Sheraton Chicago Hotel and Towers enough. As far as this customer is concerned, it is the only place to stay if you are in the Chicago area and are looking for accommodations with the best customer service, atmosphere, and amenities. I couldn't recommend it more. \n",
    "\"\n",
    "\n",
    "The review is: deceptive.\n",
    "\n",
    "A hotel review is the following: \"I'm sitting in the hotel as I right this review and am not impressed with the room. The hotel is not modern in the least - it feels like you're staying in your grandmother's attic. Wallpaper is peeling off the wall, not well lit, very few outlets in the room -- especially convenient ones (none next to the bed or built into lamps), terrible views and loud construction noises woke me up at 7am. Even the location is off the beaten path - closest L stop is on the Red Line -- so not accessible via the loop stops on the blue line from the airport without transferring. Health club is not on site either. There are hundreds of other hotels I would stay in over this one.\n",
    "\"\n",
    "\n",
    "The review is: truthful.\n",
    "\n",
    "A hotel review is the following: \"I was going to Chicago last month and wanted a nice hotel that was close to restaurants and shops. I did some research and believed the InterContinental would suit my needs. I sure was not disappointed by my decision! This hotel lots of historic charm. Despite being a larger hotel, the service was top shelf! The rooms, while not large by any means, were extremely well-appointed and very comfortable. My kids loved the big swimming pool that the hotel offered. As for me, I was more impressed with the location to the Magnificent Mile. The hotel also has a nice restaurant on-site. The food was very good and, just like the hotel itself, the restaurant provided perfect customer service. Dollar for dollar, the InterContinental in Chicago is a great deal and I will be staying there again. \n",
    "\"\n",
    "\n",
    "The review is: deceptive.\n",
    "\n",
    "Generate a summary that is useful for predicting whether a review is truthful or deceptive. Please be concise and keep the summary to be one-sentence long. Propose 4 possible summaries. Generate them in the format of 1. [summary], 2. [summary], ... 4. [summary]\n",
    "'''"
   ]
  },
  {
   "cell_type": "code",
   "execution_count": null,
   "metadata": {},
   "outputs": [],
   "source": [
    "print(api.generate(prompt))"
   ]
  },
  {
   "cell_type": "code",
   "execution_count": null,
   "metadata": {},
   "outputs": [],
   "source": [
    "prompt='''###\n",
    "Instruction:\n",
    "Given a set of hotel reviews, we want to generate hypotheses that are useful for predicting whether a review is truthful or deceptive. In other words, we want to know whether the review is written by a someone who actually lived in the hotel.\n",
    "Please be concise and keep each hypothesis to be one-sentence long. Propose 4 possible hypotheses. Generate them in the format of 1. [hypothesis], 2. [hypothesis], ... 4. [hypothesis]. The hypotheses should analyze what kind of reviews are likely to be truthful or deceptive.\n",
    "###\n",
    "We have seen some hotel reviews:\n",
    "A hotel review is the following: \"Hello, I recently stayed at the Affinia hotel in Chicago, and was very unhappy when I learned of additional charges upon arrival. When I made the reservations over the phone there was no mention of any internet or parking fees. When I arrive I'm told fee to valet park is $49 per day, plus another $10 for internet. This is just plain ridiculous, and will remember not to stay here in future. There's too many other fine hotels that don't charge these fees.\n",
    "\"\n",
    "\n",
    "The review is: deceptive.\n",
    "\n",
    "A hotel review is the following: \" My wife and I's stay at the Sheraton Chicago Hotel and Towers proved to be the perfect complement to our time spent visiting and exploring the Windy City. Upon our arrival, we were immediately welcomed by the beautiful design of the first-floor lobby and the friendly demeanor of the desk and bell service staff. In seemingly no time at all we were in our clean and well-furnished room with a beautiful and peaceful view of Lake Michigan. In terms of accommodations, I have never personally stayed at a hotel that I could complement more. On our very first night, my wife took advantage of a message therapy session while I swam a few laps in the heated indoor swimming pool. We followed our time apart with a very relaxing time at the Chi bar, which had a very enlivening and laid-back atmosphere. Retiring to our rooms, I couldn't help but remark to my wife about the quality of our room and the bed in particular. I had a very comfortable night's sleep and woke up just on time thanks to a spot-on wake up call from the desk staff. After a quick bite to eat the LB Bistro, we headed out to sight-see. Overall, I can't recommend the Sheraton Chicago Hotel and Towers enough. As far as this customer is concerned, it is the only place to stay if you are in the Chicago area and are looking for accommodations with the best customer service, atmosphere, and amenities. I couldn't recommend it more. \n",
    "\"\n",
    "\n",
    "The review is: deceptive.\n",
    "\n",
    "A hotel review is the following: \"I'm sitting in the hotel as I right this review and am not impressed with the room. The hotel is not modern in the least - it feels like you're staying in your grandmother's attic. Wallpaper is peeling off the wall, not well lit, very few outlets in the room -- especially convenient ones (none next to the bed or built into lamps), terrible views and loud construction noises woke me up at 7am. Even the location is off the beaten path - closest L stop is on the Red Line -- so not accessible via the loop stops on the blue line from the airport without transferring. Health club is not on site either. There are hundreds of other hotels I would stay in over this one.\n",
    "\"\n",
    "\n",
    "The review is: truthful.\n",
    "\n",
    "A hotel review is the following: \"I was going to Chicago last month and wanted a nice hotel that was close to restaurants and shops. I did some research and believed the InterContinental would suit my needs. I sure was not disappointed by my decision! This hotel lots of historic charm. Despite being a larger hotel, the service was top shelf! The rooms, while not large by any means, were extremely well-appointed and very comfortable. My kids loved the big swimming pool that the hotel offered. As for me, I was more impressed with the location to the Magnificent Mile. The hotel also has a nice restaurant on-site. The food was very good and, just like the hotel itself, the restaurant provided perfect customer service. Dollar for dollar, the InterContinental in Chicago is a great deal and I will be staying there again. \n",
    "\"\n",
    "\n",
    "The review is: deceptive.\n",
    "\n",
    "Generate hypotheses that are useful for predicting whether a review is truthful or deceptive. Please be concise and keep each hypothesis to be one-sentence long. Propose 4 possible hypotheses. Generate them in the format of 1. [hypothesis], 2. [hypothesis], ... 4. [hypothesis]\n",
    "'''"
   ]
  },
  {
   "cell_type": "code",
   "execution_count": null,
   "metadata": {},
   "outputs": [],
   "source": [
    "print(api.generate(prompt))"
   ]
  },
  {
   "cell_type": "code",
   "execution_count": null,
   "metadata": {},
   "outputs": [],
   "source": [
    "prompt='''###\n",
    "Instruction:\n",
    "We are in a synthetic world.\n",
    "Given a set of observations, we want to generate hypotheses that are useful for recommending a color for shoes to a customer. Please be concise and keep each hypothesis to be one-sentence long. Propose 1 possible hypotheses. Generate them in the format of 1. [hypothesis], 2. [hypothesis], ... 1. [hypothesis]. Please make the hypotheses general enough to be applicable to new observations.\n",
    "###\n",
    "We made some observations:\n",
    "A customer is a old and short man with green hat, red shirt, and a small green bag. This customer bought a pair of red shoes.\n",
    "Generate hypotheses that are useful for recommending color of shoes. Please be concise and keep each hypothesis to be one-sentence long. Propose 1 possible hypotheses. Generate them in the format of 1. [hypothesis], 2. [hypothesis], ... 1. [hypothesis].\n",
    "\n",
    "Proposed hypotheses:'''"
   ]
  },
  {
   "cell_type": "code",
   "execution_count": null,
   "metadata": {},
   "outputs": [],
   "source": [
    "print(api.generate(prompt))"
   ]
  },
  {
   "cell_type": "markdown",
   "metadata": {},
   "source": [
    "### test inference prompts"
   ]
  },
  {
   "cell_type": "code",
   "execution_count": 3,
   "metadata": {},
   "outputs": [],
   "source": [
    "import textwrap"
   ]
  },
  {
   "cell_type": "code",
   "execution_count": null,
   "metadata": {},
   "outputs": [],
   "source": [
    "prompt=textwrap.dedent(\"\"\"\\\n",
    "            ###\n",
    "            Instruction:\n",
    "            You are a sentiment analysis expert and want to predict sentiment of a given sentence. The sentiment can be either positive or negative.\n",
    "            From past experiences, you learned some patterns. \n",
    "            Now, you should apply the learned pattern when you predict the sentiment of a sentence.\n",
    "            Give an answer for the sentiment prediction. The answer should be one of 'positive' and 'negative'.\n",
    "            ###\"\"\")"
   ]
  },
  {
   "cell_type": "code",
   "execution_count": null,
   "metadata": {},
   "outputs": [],
   "source": [
    "print(prompt)\n",
    "type(prompt)"
   ]
  },
  {
   "cell_type": "code",
   "execution_count": 17,
   "metadata": {},
   "outputs": [],
   "source": [
    "prompt=textwrap.dedent(\"\"\"\\\n",
    "            ###\n",
    "            Instruction:\n",
    "            You are a deceptive detection agent and want to determine whether a hotel review is truthful or deceptive.\n",
    "            In other words, we want to know whether the review is written by someone who actually lived in the hotel.\n",
    "            From past experiences, you learned some patterns. \n",
    "            You need to determine whether this pattern holds for the current hotel review, and also predict whether the current hotel review is truthful or deceptive.\n",
    "            Give an answer. The answer should be one word (truthful or deceptive). \n",
    "            Give your final answer in the format of \"Final answer: [answer].\"\n",
    "            ###\n",
    "\n",
    "            Our learned pattern: Frustrating experiences with unmet expectations, poor service, and unexpected charges indicate a deceptive hotel review.\n",
    "\n",
    "            A hotel review is the following: \"At the last minute, my son and I decided to take a quick trip to Chicago to see the Cubs. After checking Priceline I decided to book the Omni because of the great price for airfare and hotel. We arrived at the hotel around noon and our room was ready(I had called ahead and requested early arrival).The front desk treated us like we were there best customers-very friendly and accomodating. The room was wonderful with all the modern conviences you would expect in an upscale hotel. The room was spotless and the bed was VERY comfortable. There was not one sign of bed bugs as mentioned in a previous review-maybe those bed bugs were from their luggage and were transferred into their room!!!We then went to the hotel restaurant and had lunch. Our service was great as was the food. We also tried several restaurants around the Omni-all within walking distance. The service, cleanliness and location of the Omni were incredible. We will definitely go back. \n",
    "            \"\n",
    "\n",
    "            Answer: \"\"\")"
   ]
  },
  {
   "cell_type": "code",
   "execution_count": 18,
   "metadata": {},
   "outputs": [
    {
     "name": "stdout",
     "output_type": "stream",
     "text": [
      " Based on the learned pattern that frustrating experiences, poor service, and unexpected charges indicate a deceptive review, I do not see evidence of those things in this review. The review describes a positive experience with good service, cleanliness, location, etc. Therefore, my final answer is:\n",
      "\n",
      "Final answer: truthful\n"
     ]
    }
   ],
   "source": [
    "print(api.generate(prompt))"
   ]
  },
  {
   "cell_type": "code",
   "execution_count": 19,
   "metadata": {},
   "outputs": [],
   "source": [
    "prompt=textwrap.dedent(\"\"\"\\\n",
    "            ###\n",
    "            Instruction:\n",
    "            You are a deceptive detection agent and want to determine whether a hotel review is truthful or deceptive.\n",
    "            In other words, we want to know whether the review is written by someone who actually lived in the hotel.\n",
    "            From past experiences, you learned some patterns. \n",
    "            Below is the learned pattern and the new review that we received. You should apply the learned pattern to the hotel review and determine whether the review is truthful or deceptive.\n",
    "            Your answer should be one word. It has to be either truthful or deceptive.\n",
    "            Give your final answer in the format of \"Final answer: [answer].\"\n",
    "            ###\n",
    "\n",
    "            Our learned pattern: Frustrating experiences with unmet expectations, poor service, and unexpected charges indicate a deceptive hotel review.\n",
    "\n",
    "            A hotel review is the following: \"At the last minute, my son and I decided to take a quick trip to Chicago to see the Cubs. After checking Priceline I decided to book the Omni because of the great price for airfare and hotel. We arrived at the hotel around noon and our room was ready(I had called ahead and requested early arrival).The front desk treated us like we were there best customers-very friendly and accomodating. The room was wonderful with all the modern conviences you would expect in an upscale hotel. The room was spotless and the bed was VERY comfortable. There was not one sign of bed bugs as mentioned in a previous review-maybe those bed bugs were from their luggage and were transferred into their room!!!We then went to the hotel restaurant and had lunch. Our service was great as was the food. We also tried several restaurants around the Omni-all within walking distance. The service, cleanliness and location of the Omni were incredible. We will definitely go back. \n",
    "            \"\n",
    "\n",
    "            Answer: \"\"\")"
   ]
  },
  {
   "cell_type": "code",
   "execution_count": 20,
   "metadata": {},
   "outputs": [
    {
     "name": "stdout",
     "output_type": "stream",
     "text": [
      " Final answer: truthful\n",
      "\n",
      "The hotel review describes a positive experience with good service, cleanliness, and location. There are no signs of the frustrating experiences, poor service, unexpected charges or unmet expectations that would indicate a deceptive review according to the learned pattern. Therefore, based on applying the provided pattern, I conclude this is a truthful review.\n"
     ]
    }
   ],
   "source": [
    "print(api.generate(prompt))"
   ]
  },
  {
   "cell_type": "markdown",
   "metadata": {},
   "source": [
    "### inference prompt for shoe dataset"
   ]
  },
  {
   "cell_type": "code",
   "execution_count": 35,
   "metadata": {},
   "outputs": [],
   "source": [
    "prompt=textwrap.dedent('''\\\n",
    "                       ###\n",
    "                       Instruction:\n",
    "                       You are a shoe salesman and want to recommend shoes to customers. There are white, red, orange, green, blue, and black shoes.\n",
    "                       From past experiences, you learned some patterns. \n",
    "                       Now, at each time, you should apply the learned pattern, given below, to a new customer and recommend a shoe color.\n",
    "                       Give your answer for the shoe color recommendation. The answer should be one color word. It has to be one of white, red, orange, green, blue, and black. If you do not have enough information to make a recommendation, you should give the answer \"unknown\".\n",
    "                       Give your final answer in the format of \"Final answer: [answer].\"\n",
    "                       ###\n",
    "                       \n",
    "                       Pattern: People wearing red shirts tend to buy red shoes.\n",
    "                       \n",
    "                       New customer: a old and tall woman with green hat, black shirt, and a large green bag is buying a pair of shoes, the shoes should be which color?\n",
    "                       \n",
    "                       Answer: ''')"
   ]
  },
  {
   "cell_type": "code",
   "execution_count": 36,
   "metadata": {},
   "outputs": [
    {
     "name": "stdout",
     "output_type": "stream",
     "text": [
      " Based on the given pattern, there is no information about what color shoes to recommend for someone wearing a black shirt and green hat. Since there is not enough information to make a recommendation, my answer is:\n",
      "\n",
      "Final answer: unknown\n"
     ]
    }
   ],
   "source": [
    "print(api.generate(prompt))"
   ]
  },
  {
   "cell_type": "code",
   "execution_count": null,
   "metadata": {},
   "outputs": [],
   "source": []
  }
 ],
 "metadata": {
  "kernelspec": {
   "display_name": "Python 3",
   "language": "python",
   "name": "python3"
  },
  "language_info": {
   "codemirror_mode": {
    "name": "ipython",
    "version": 3
   },
   "file_extension": ".py",
   "mimetype": "text/x-python",
   "name": "python",
   "nbconvert_exporter": "python",
   "pygments_lexer": "ipython3",
   "version": "3.7.15"
  }
 },
 "nbformat": 4,
 "nbformat_minor": 2
}
