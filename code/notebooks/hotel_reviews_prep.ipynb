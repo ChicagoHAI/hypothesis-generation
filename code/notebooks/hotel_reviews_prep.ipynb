{
 "cells": [
  {
   "cell_type": "code",
   "execution_count": 1,
   "metadata": {},
   "outputs": [],
   "source": [
    "import pandas as pd\n",
    "from pprint import pprint"
   ]
  },
  {
   "cell_type": "markdown",
   "metadata": {},
   "source": [
    "### Step 1. Read the data from the folders and create a dataframe.\n",
    "#### The dataframe have 400 rows and 5 columns. The columns are: hotel, positive_truthful, positive_deceptive, negative_truthful, negative_deceptive. The rows are the reviews for the hotels. In particular, there are 20 rows for each hotel and 20 hotels in total."
   ]
  },
  {
   "cell_type": "code",
   "execution_count": 2,
   "metadata": {},
   "outputs": [],
   "source": [
    "# positive_truthful_folder = '/home/haokunliu/temp_data/op_spam_v1.4/positive_polarity/truthful_from_TripAdvisor/'\n",
    "# positive_deceptive_folder = '/home/haokunliu/temp_data/op_spam_v1.4/positive_polarity/deceptive_from_MTurk/'\n",
    "# negative_truthful_folder = '/home/haokunliu/temp_data/op_spam_v1.4/negative_polarity/truthful_from_Web/'\n",
    "# negative_deceptive_folder = '/home/haokunliu/temp_data/op_spam_v1.4/negative_polarity/deceptive_from_MTurk/'\n",
    "\n",
    "positive_truthful_folder = '/data/rosa/data/op_spam_v1.4/positive_polarity/truthful_from_TripAdvisor/'\n",
    "positive_deceptive_folder = '/data/rosa/data/op_spam_v1.4/positive_polarity/deceptive_from_MTurk/'\n",
    "negative_truthful_folder = '/data/rosa/data/op_spam_v1.4/negative_polarity/truthful_from_Web/'\n",
    "negative_deceptive_folder = '/data/rosa/data/op_spam_v1.4/negative_polarity/deceptive_from_MTurk/'"
   ]
  },
  {
   "cell_type": "code",
   "execution_count": 3,
   "metadata": {},
   "outputs": [],
   "source": [
    "import os\n",
    "hotel_reviews = {} \n",
    "sup_folders = [positive_truthful_folder, positive_deceptive_folder, negative_truthful_folder, negative_deceptive_folder]\n",
    "for sup_folder in sup_folders:\n",
    "    for fold in range(1, 6, 1):\n",
    "        folder = f'{sup_folder}fold{fold}/'\n",
    "        # get the list of files in each folder\n",
    "        files = os.listdir(folder)\n",
    "        for file in files:\n",
    "            # print('file', file)\n",
    "            hotel_name = file.split('_')[1]\n",
    "            # print('hotel_name', hotel_name)\n",
    "            # drop the .txt\n",
    "            hotel_review_idx = file.split('.')[0].split('_')[2]\n",
    "            # print('hotel_review_idx', hotel_review_idx)\n",
    "            with open(folder + file, 'r') as f:\n",
    "                review = f.read()\n",
    "                key = hotel_name + '_' + hotel_review_idx\n",
    "                if key not in hotel_reviews:\n",
    "                    hotel_reviews[key] = [review]\n",
    "                else:\n",
    "                    hotel_reviews[key].append(review)"
   ]
  },
  {
   "cell_type": "code",
   "execution_count": 4,
   "metadata": {},
   "outputs": [
    {
     "name": "stdout",
     "output_type": "stream",
     "text": [
      "400\n",
      "4\n"
     ]
    }
   ],
   "source": [
    "print(len(hotel_reviews.keys()))\n",
    "print(len(hotel_reviews['sofitel_8']))\n",
    "\n",
    "# turn the dictionary into a dataframe\n",
    "df = pd.DataFrame.from_dict(hotel_reviews, orient='index')\n",
    "# rename the columns to hotel_review_id, positive_truthful, positive_deceptive, negative_truthful, negative_deceptive\n",
    "df.columns = ['positive_truthful', 'positive_deceptive', 'negative_truthful', 'negative_deceptive']"
   ]
  },
  {
   "cell_type": "code",
   "execution_count": 5,
   "metadata": {},
   "outputs": [
    {
     "data": {
      "text/html": [
       "<div>\n",
       "<style scoped>\n",
       "    .dataframe tbody tr th:only-of-type {\n",
       "        vertical-align: middle;\n",
       "    }\n",
       "\n",
       "    .dataframe tbody tr th {\n",
       "        vertical-align: top;\n",
       "    }\n",
       "\n",
       "    .dataframe thead th {\n",
       "        text-align: right;\n",
       "    }\n",
       "</style>\n",
       "<table border=\"1\" class=\"dataframe\">\n",
       "  <thead>\n",
       "    <tr style=\"text-align: right;\">\n",
       "      <th></th>\n",
       "      <th>positive_truthful</th>\n",
       "      <th>positive_deceptive</th>\n",
       "      <th>negative_truthful</th>\n",
       "      <th>negative_deceptive</th>\n",
       "    </tr>\n",
       "  </thead>\n",
       "  <tbody>\n",
       "    <tr>\n",
       "      <th>sofitel_8</th>\n",
       "      <td>Beautifully appointed, professionally staffed,...</td>\n",
       "      <td>I was very satisfied after staying at the Sofi...</td>\n",
       "      <td>I was looking for a fun, contemporary hotel an...</td>\n",
       "      <td>After booking a room over two months in advanc...</td>\n",
       "    </tr>\n",
       "    <tr>\n",
       "      <th>sofitel_1</th>\n",
       "      <td>On a recent trip to Chicago to attend a major ...</td>\n",
       "      <td>On our first trip to Chicago, my fiance and I ...</td>\n",
       "      <td>This hotel is totally overrated. Yes, the loca...</td>\n",
       "      <td>I needed a place to stay for a business confer...</td>\n",
       "    </tr>\n",
       "    <tr>\n",
       "      <th>hilton_12</th>\n",
       "      <td>went to chicago for a week in may, decided to ...</td>\n",
       "      <td>I stayed at the Hilton Chicago for my cousins ...</td>\n",
       "      <td>Going to the Internet Retailer 2010 at the las...</td>\n",
       "      <td>When most people think Hilton, they think luxu...</td>\n",
       "    </tr>\n",
       "    <tr>\n",
       "      <th>hilton_15</th>\n",
       "      <td>I stayed here for a conference and got the con...</td>\n",
       "      <td>My husband and I stayed in the Hilton Chicago ...</td>\n",
       "      <td>I stayed at the Chicago Hilton because it was ...</td>\n",
       "      <td>For a hotel rated with four diamonds by AAA, o...</td>\n",
       "    </tr>\n",
       "    <tr>\n",
       "      <th>sofitel_6</th>\n",
       "      <td>We just arrived from a 3 nights stay at the So...</td>\n",
       "      <td>Best hotel in an excellent location I stayed a...</td>\n",
       "      <td>Didn't get the room we were promised. Kind of ...</td>\n",
       "      <td>Sofitel not-so-luxury Hotels I recently checke...</td>\n",
       "    </tr>\n",
       "  </tbody>\n",
       "</table>\n",
       "</div>"
      ],
      "text/plain": [
       "                                           positive_truthful  \\\n",
       "sofitel_8  Beautifully appointed, professionally staffed,...   \n",
       "sofitel_1  On a recent trip to Chicago to attend a major ...   \n",
       "hilton_12  went to chicago for a week in may, decided to ...   \n",
       "hilton_15  I stayed here for a conference and got the con...   \n",
       "sofitel_6  We just arrived from a 3 nights stay at the So...   \n",
       "\n",
       "                                          positive_deceptive  \\\n",
       "sofitel_8  I was very satisfied after staying at the Sofi...   \n",
       "sofitel_1  On our first trip to Chicago, my fiance and I ...   \n",
       "hilton_12  I stayed at the Hilton Chicago for my cousins ...   \n",
       "hilton_15  My husband and I stayed in the Hilton Chicago ...   \n",
       "sofitel_6  Best hotel in an excellent location I stayed a...   \n",
       "\n",
       "                                           negative_truthful  \\\n",
       "sofitel_8  I was looking for a fun, contemporary hotel an...   \n",
       "sofitel_1  This hotel is totally overrated. Yes, the loca...   \n",
       "hilton_12  Going to the Internet Retailer 2010 at the las...   \n",
       "hilton_15  I stayed at the Chicago Hilton because it was ...   \n",
       "sofitel_6  Didn't get the room we were promised. Kind of ...   \n",
       "\n",
       "                                          negative_deceptive  \n",
       "sofitel_8  After booking a room over two months in advanc...  \n",
       "sofitel_1  I needed a place to stay for a business confer...  \n",
       "hilton_12  When most people think Hilton, they think luxu...  \n",
       "hilton_15  For a hotel rated with four diamonds by AAA, o...  \n",
       "sofitel_6  Sofitel not-so-luxury Hotels I recently checke...  "
      ]
     },
     "execution_count": 5,
     "metadata": {},
     "output_type": "execute_result"
    }
   ],
   "source": [
    "df.head()"
   ]
  },
  {
   "cell_type": "markdown",
   "metadata": {},
   "source": [
    "### Step 2. Sample training and testing data.\n",
    "#### Sample 200 rows for training (800 examples), 75 rows for validation (300 examples), and 125 for testing (500 examples)."
   ]
  },
  {
   "cell_type": "code",
   "execution_count": 6,
   "metadata": {},
   "outputs": [],
   "source": [
    "# sample 200 rows for training and 75 for validation and 125 for testing\n",
    "df_train = df.sample(200, random_state=42)\n",
    "df = df.drop(df_train.index)\n",
    "df_val = df.sample(75, random_state=42)\n",
    "df = df.drop(df_val.index)\n",
    "df_test = df"
   ]
  },
  {
   "cell_type": "code",
   "execution_count": 8,
   "metadata": {},
   "outputs": [
    {
     "name": "stdout",
     "output_type": "stream",
     "text": [
      "Index([], dtype='object')\n",
      "Index([], dtype='object')\n",
      "Index([], dtype='object')\n"
     ]
    }
   ],
   "source": [
    "# check whether there are overlaps between the three datasets\n",
    "print(df_train.index.intersection(df_val.index))\n",
    "print(df_train.index.intersection(df_test.index))\n",
    "print(df_val.index.intersection(df_test.index))"
   ]
  },
  {
   "cell_type": "code",
   "execution_count": 9,
   "metadata": {},
   "outputs": [
    {
     "name": "stdout",
     "output_type": "stream",
     "text": [
      "200\n",
      "75\n",
      "125\n"
     ]
    }
   ],
   "source": [
    "# get length of each dataset\n",
    "print(len(df_train))\n",
    "print(len(df_val))\n",
    "print(len(df_test))"
   ]
  },
  {
   "cell_type": "code",
   "execution_count": 10,
   "metadata": {},
   "outputs": [],
   "source": [
    "# export to jsonl file\n",
    "# path = '/home/haokunliu/past-interaction-learning/data'\n",
    "path = '/data/rosa/work_in_progress/past-interaction-learning/data'\n",
    "df_train.to_json(path + '/hotel_reviews_train.jsonl', orient='records', lines=True)\n",
    "df_val.to_json(path + '/hotel_reviews_val.jsonl', orient='records', lines=True)\n",
    "df_test.to_json(path + '/hotel_reviews_test.jsonl', orient='records', lines=True)"
   ]
  },
  {
   "cell_type": "markdown",
   "metadata": {},
   "source": [
    "### Just trying stuff below"
   ]
  },
  {
   "cell_type": "code",
   "execution_count": null,
   "metadata": {},
   "outputs": [],
   "source": [
    "# just trying stuff\n",
    "df_train.head()"
   ]
  },
  {
   "cell_type": "code",
   "execution_count": null,
   "metadata": {},
   "outputs": [],
   "source": [
    "# get all positive_truthful reviews\n",
    "positive_truthful_reviews = df_train['positive_truthful'].tolist()"
   ]
  },
  {
   "cell_type": "code",
   "execution_count": null,
   "metadata": {},
   "outputs": [],
   "source": [
    "len(positive_truthful_reviews)"
   ]
  }
 ],
 "metadata": {
  "kernelspec": {
   "display_name": "Python 3",
   "language": "python",
   "name": "python3"
  },
  "language_info": {
   "codemirror_mode": {
    "name": "ipython",
    "version": 3
   },
   "file_extension": ".py",
   "mimetype": "text/x-python",
   "name": "python",
   "nbconvert_exporter": "python",
   "pygments_lexer": "ipython3",
   "version": "3.7.15"
  }
 },
 "nbformat": 4,
 "nbformat_minor": 2
}
