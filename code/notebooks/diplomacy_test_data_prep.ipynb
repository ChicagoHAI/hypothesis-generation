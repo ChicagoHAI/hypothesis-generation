{
 "cells": [
  {
   "cell_type": "code",
   "execution_count": null,
   "metadata": {},
   "outputs": [],
   "source": [
    "import pandas as pd\n",
    "import sys\n",
    "sys.path.append('/data/rosa/work_in_progress/past-interaction-learning/code')\n",
    "from diplomacy_data_utils import *"
   ]
  },
  {
   "cell_type": "code",
   "execution_count": null,
   "metadata": {},
   "outputs": [],
   "source": [
    "game_df_operations('/data/rosa/work_in_progress/past-interaction-learning/data/diplomacy_test_game_id_2.jsonl')\n",
    "game_df_operations('/data/rosa/work_in_progress/past-interaction-learning/data/diplomacy_test_game_id_2_swnames.jsonl')\n",
    "\n",
    "game_df_operations('/data/rosa/work_in_progress/past-interaction-learning/data/diplomacy_test_game_id_3.jsonl')\n",
    "game_df_operations('/data/rosa/work_in_progress/past-interaction-learning/data/diplomacy_swnames_game_id_3.jsonl')"
   ]
  },
  {
   "cell_type": "code",
   "execution_count": null,
   "metadata": {},
   "outputs": [],
   "source": [
    "# # get distinct values in sender_labels, note that sender_labels is a list of values\n",
    "# print(f\"Distinct values in sender_labels: {game_2_data.sender_labels.explode().unique()}\")\n",
    "# print(f\"Distinct values in receiver_labels: {game_2_data.receiver_labels.explode().unique()}\")\n",
    "# print(f\"Distinct values in speakers: {game_2_data.speakers.explode().unique()}\")\n",
    "# print(f\"Distinct values in receivers: {game_2_data.receivers.explode().unique()}\")\n",
    "# print(f\"Distinct values in seasons: {game_2_data.seasons.explode().unique()}\")\n",
    "# print(f\"Distinct values in years: {game_2_data.years.explode().unique()}\")\n",
    "# print(f\"Distinct values in game_score: {game_2_data.game_score.explode().unique()}\")\n",
    "# print(f\"Distinct values in game_score_delta: {game_2_data.game_score_delta.explode().unique()}\")"
   ]
  },
  {
   "cell_type": "code",
   "execution_count": null,
   "metadata": {},
   "outputs": [],
   "source": [
    "# truthful_df, deceptive_df = read_data_by_labels('/data/rosa/work_in_progress/past-interaction-learning/data/diplomacy_test_game_id_2.jsonl', game_id=2)\n",
    "# truthful_df_swnames, deceptive_df_swnames = read_data_by_labels('/data/rosa/work_in_progress/past-interaction-learning/data/diplomacy_test_game_id_2_swnames.jsonl', game_id=2)\n",
    "\n",
    "# # Sample 90 truthful and 10 deceptive messages\n",
    "# truthful_sampled, deceptive_sampled = sample_messages(truthful_df, deceptive_df, 90, 10)\n",
    "# truthful_sampled_swnames, deceptive_sampled_swnames = sample_messages(truthful_df_swnames, deceptive_df_swnames, 90, 10)\n",
    "\n",
    "# # combine the two dfs and save to output\n",
    "# combine_labels_and_save(truthful_sampled, deceptive_sampled, '/data/rosa/work_in_progress/past-interaction-learning/data/diplomacy_game2_test_90_10_class.jsonl')\n",
    "# combine_labels_and_save(truthful_sampled_swnames, deceptive_sampled_swnames, '/data/rosa/work_in_progress/past-interaction-learning/data/diplomacy_game2_test_90_10_class_swnames.jsonl')"
   ]
  },
  {
   "cell_type": "code",
   "execution_count": null,
   "metadata": {},
   "outputs": [],
   "source": [
    "task = 'diplomacy_swnames'\n",
    "num_pos = 90\n",
    "num_neg = 10\n",
    "game_id = 3\n",
    "directory = '/data/rosa/work_in_progress/past-interaction-learning/data'\n",
    "\n",
    "sample_and_save(directory, num_pos, num_neg, game_id, task)"
   ]
  }
 ],
 "metadata": {
  "kernelspec": {
   "display_name": "Python 3",
   "language": "python",
   "name": "python3"
  },
  "language_info": {
   "codemirror_mode": {
    "name": "ipython",
    "version": 3
   },
   "file_extension": ".py",
   "mimetype": "text/x-python",
   "name": "python",
   "nbconvert_exporter": "python",
   "pygments_lexer": "ipython3",
   "version": "3.7.15"
  },
  "orig_nbformat": 4
 },
 "nbformat": 4,
 "nbformat_minor": 2
}
