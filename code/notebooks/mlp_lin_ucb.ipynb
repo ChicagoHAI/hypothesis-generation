{
 "cells": [
  {
   "cell_type": "code",
   "execution_count": null,
   "metadata": {},
   "outputs": [],
   "source": [
    "import matplotlib.pyplot as plt\n",
    "import random\n",
    "import sys\n",
    "sys.path.append('../')\n",
    "from lin_ucb.neural_lin_ucb import NeuralLinUCB\n",
    "from lin_ucb.bandit import ContextualBandit\n",
    "from lin_ucb.dataset.ucb_dataset import ShoeDataset\n",
    "from utils import prep_shoe_data\n",
    "from data_loader import get_data"
   ]
  },
  {
   "cell_type": "code",
   "execution_count": null,
   "metadata": {},
   "outputs": [],
   "source": [
    "random.seed(42)\n",
    "\n",
    "task = 'shoe'\n",
    "num_train = 200\n",
    "num_test = 100\n",
    "\n",
    "train_data, _ = get_data(task, num_train, num_test)\n",
    "train_x, train_y = prep_shoe_data(train_data)"
   ]
  },
  {
   "cell_type": "code",
   "execution_count": null,
   "metadata": {},
   "outputs": [],
   "source": [
    "def run_neural_lin_ucb(train_x, train_y, T):\n",
    "    seed=42\n",
    "    n_arms=6\n",
    "\n",
    "    dataset = ShoeDataset(x=train_x, y=train_y)\n",
    "    bandit = ContextualBandit(T=T, n_arms=n_arms, seed=seed, dataset=dataset)\n",
    "    neurallinucb = NeuralLinUCB(bandit=bandit)\n",
    "\n",
    "    neurallinucb.run()\n",
    "\n",
    "    return neurallinucb"
   ]
  },
  {
   "cell_type": "code",
   "execution_count": null,
   "metadata": {},
   "outputs": [],
   "source": [
    "T = 200\n",
    "neurallinucb = run_neural_lin_ucb(train_x, train_y, T)"
   ]
  },
  {
   "cell_type": "code",
   "execution_count": null,
   "metadata": {},
   "outputs": [],
   "source": [
    "# plot the regret\n",
    "print('regrets: ', neurallinucb.regrets)\n",
    "average_regret = [sum(neurallinucb.regrets[:i])/i for i in range(1, len(neurallinucb.regrets))]\n",
    "print(\"average_regret: \", average_regret)\n",
    "# cumulative_regret = [sum(neurallinucb.regrets[:i]) for i in range(1, len(neurallinucb.regrets))]\n",
    "# print(\"cumulative_regret: \", cumulative_regret)"
   ]
  },
  {
   "cell_type": "code",
   "execution_count": null,
   "metadata": {},
   "outputs": [],
   "source": [
    "# plot average regret\n",
    "plt.plot(average_regret, label='average regret')\n",
    "\n",
    "# save plots\n",
    "plt.savefig('./average_regret.png')\n",
    "\n",
    "# save model\n",
    "neurallinucb.save_model('./linucb_model')"
   ]
  },
  {
   "cell_type": "code",
   "execution_count": null,
   "metadata": {},
   "outputs": [],
   "source": [
    "# get accuracy on test set\n",
    "random.seed(42)\n",
    "\n",
    "task = 'shoe'\n",
    "num_train = 200\n",
    "num_test = 100\n",
    "_, test_data = get_data(task, num_train, num_test)\n",
    "test_x, test_y = prep_shoe_data(test_data)\n",
    "\n",
    "seed=42\n",
    "n_arms=6\n",
    "T=100\n",
    "\n",
    "dataset = ShoeDataset(x=test_x, y=test_y)\n",
    "bandit = ContextualBandit(T=T, n_arms=n_arms, seed=seed, dataset=dataset)\n",
    "neurallinucb = NeuralLinUCB(bandit=bandit)\n",
    "neurallinucb.load_model('./linucb_model')\n",
    "neurallinucb.run_inference()"
   ]
  },
  {
   "cell_type": "code",
   "execution_count": null,
   "metadata": {},
   "outputs": [],
   "source": [
    "# plot the regret\n",
    "print('regrets: ', neurallinucb.regrets)\n",
    "average_regret = [sum(neurallinucb.regrets[:i])/i for i in range(1, len(neurallinucb.regrets))]\n",
    "print(\"average_regret: \", average_regret)\n",
    "cumulative_regret = [sum(neurallinucb.regrets[:i]) for i in range(1, len(neurallinucb.regrets))]\n",
    "print(\"cumulative_regret: \", cumulative_regret)\n",
    "\n",
    "print(\"accuracy: \", 1-sum(neurallinucb.regrets)/len(neurallinucb.regrets))"
   ]
  },
  {
   "cell_type": "code",
   "execution_count": null,
   "metadata": {},
   "outputs": [],
   "source": [
    "# plot average regret\n",
    "plt.plot(average_regret, label='average regret')\n",
    "\n",
    "# save plots\n",
    "plt.savefig('./average_regret.png')"
   ]
  }
 ],
 "metadata": {
  "kernelspec": {
   "display_name": "Python 3",
   "language": "python",
   "name": "python3"
  },
  "language_info": {
   "codemirror_mode": {
    "name": "ipython",
    "version": 3
   },
   "file_extension": ".py",
   "mimetype": "text/x-python",
   "name": "python",
   "nbconvert_exporter": "python",
   "pygments_lexer": "ipython3",
   "version": "3.7.15"
  },
  "orig_nbformat": 4
 },
 "nbformat": 4,
 "nbformat_minor": 2
}
