{
 "cells": [
  {
   "cell_type": "markdown",
   "metadata": {},
   "source": [
    "## Contextual Bandit for Shoe Sales Dataset"
   ]
  },
  {
   "cell_type": "markdown",
   "metadata": {
    "notebookRunGroups": {
     "groupValue": "1"
    }
   },
   "source": [
    "### 1. Prep data (featurize everything)"
   ]
  },
  {
   "cell_type": "code",
   "execution_count": null,
   "metadata": {},
   "outputs": [],
   "source": [
    "from data_loader import get_data\n",
    "import random\n",
    "random.seed(42)\n",
    "\n",
    "task = 'shoe'\n",
    "num_train = 200\n",
    "num_test = 100\n",
    "\n",
    "train_data, test_data = get_data(task, num_train, num_test)"
   ]
  },
  {
   "cell_type": "code",
   "execution_count": null,
   "metadata": {},
   "outputs": [],
   "source": [
    "# look at the data\n",
    "print(train_data.keys())\n",
    "print(train_data['appearance'][0])\n",
    "print(train_data['shoe'][0])\n",
    "print(train_data['label'][0])\n",
    "\n",
    "print(test_data.keys())\n",
    "print(test_data['appearance'][0])\n",
    "print(test_data['shoe'][0])\n",
    "print(test_data['label'][0])"
   ]
  },
  {
   "cell_type": "code",
   "execution_count": null,
   "metadata": {},
   "outputs": [],
   "source": [
    "from utils import *\n",
    "train_x, train_y = prep_shoe_data(train_data)\n",
    "test_x, test_y = prep_shoe_data(test_data)"
   ]
  },
  {
   "cell_type": "code",
   "execution_count": null,
   "metadata": {},
   "outputs": [],
   "source": [
    "print(train_x.shape)\n",
    "print(train_y.shape)"
   ]
  },
  {
   "cell_type": "code",
   "execution_count": null,
   "metadata": {},
   "outputs": [],
   "source": [
    "train_x[0]"
   ]
  },
  {
   "cell_type": "markdown",
   "metadata": {},
   "source": [
    "### 2. Train agent and get results (uses epsilon-greedy)"
   ]
  },
  {
   "cell_type": "code",
   "execution_count": null,
   "metadata": {},
   "outputs": [],
   "source": [
    "from epsilon_greedy.epsilon_greedy_agent import run_epislon_greedy\n",
    "print('200 training examples')\n",
    "for np_seed in [49, 50, 51]:\n",
    "    run_epislon_greedy(np_seed, 200, train_x, test_x)\n",
    "\n",
    "print('50 training examples')\n",
    "for np_seed in [49, 50, 51]:\n",
    "    run_epislon_greedy(np_seed, 50, train_x, test_x)"
   ]
  }
 ],
 "metadata": {
  "kernelspec": {
   "display_name": "Python 3",
   "language": "python",
   "name": "python3"
  },
  "language_info": {
   "codemirror_mode": {
    "name": "ipython",
    "version": 3
   },
   "file_extension": ".py",
   "mimetype": "text/x-python",
   "name": "python",
   "nbconvert_exporter": "python",
   "pygments_lexer": "ipython3",
   "version": "3.7.15"
  },
  "orig_nbformat": 4
 },
 "nbformat": 4,
 "nbformat_minor": 2
}
