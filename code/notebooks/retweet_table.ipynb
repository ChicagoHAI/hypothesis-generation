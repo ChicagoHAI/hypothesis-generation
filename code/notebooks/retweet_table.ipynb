{
 "cells": [
  {
   "cell_type": "code",
   "execution_count": 7,
   "metadata": {},
   "outputs": [
    {
     "name": "stdout",
     "output_type": "stream",
     "text": [
      "model: claude_2, few_shot: 0, hypothesis_type: init, inference_strategy: best, average_acc: 0.5266666666666667\n",
      "model: claude_2, few_shot: 0, hypothesis_type: final, inference_strategy: best, average_acc: 0.5266666666666667\n",
      "model: claude_2, few_shot: 3, hypothesis_type: init, inference_strategy: best, average_acc: 0.55\n",
      "model: claude_2, few_shot: 3, hypothesis_type: final, inference_strategy: best, average_acc: 0.5433333333333333\n"
     ]
    }
   ],
   "source": [
    "hypothesis_type_list = ['init', 'final']\n",
    "# model_list = ['claude_2', 'Llama-2-7b-chat', 'turbo35_0613']\n",
    "model_list = ['claude_2']\n",
    "seed_list = [49, 50, 51]\n",
    "few_shot_list = [0, 3]\n",
    "# inference_strategy_list = ['best', 'top_k']\n",
    "inference_strategy_list = ['best']\n",
    "\n",
    "for model in model_list:\n",
    "    for few_shot in few_shot_list:\n",
    "        for hypothesis_type in hypothesis_type_list:\n",
    "            for inference_strategy in inference_strategy_list:\n",
    "                acc_list = []\n",
    "                for seed in seed_list:\n",
    "                \n",
    "                    try:\n",
    "                        path = f'/data/rosa/work_in_progress/past-interaction-learning/print_log_tmp_new_algo_test_one_epoch/retweet/hypothesis_inference/{model}_seed_{seed}_few_shot{few_shot}_{hypothesis_type}_hypotheses_{inference_strategy}_k3.out'\n",
    "\n",
    "                        with open(path, 'r') as f:\n",
    "                            lines = f.readlines()\n",
    "                            acc_line = lines[-3]\n",
    "                            acc = float(acc_line.split()[-1])\n",
    "                            acc_list.append(acc)\n",
    "\n",
    "                    except:\n",
    "                        print('cannot read acc from: ', path)\n",
    "                        acc_list.append(0)\n",
    "\n",
    "                average_acc = sum(acc_list) / len(acc_list)\n",
    "                print(f'model: {model}, few_shot: {few_shot}, hypothesis_type: {hypothesis_type}, inference_strategy: {inference_strategy}, average_acc: {average_acc}')"
   ]
  },
  {
   "cell_type": "code",
   "execution_count": 4,
   "metadata": {},
   "outputs": [
    {
     "data": {
      "text/plain": [
       "'\\nmodel: claude_2, few_shot: 0, hypothesis_type: init, average_acc: 0.9133333333333334\\nmodel: claude_2, few_shot: 0, hypothesis_type: final, average_acc: 0.9133333333333334\\nmodel: claude_2, few_shot: 3, hypothesis_type: init, average_acc: 0.89\\nmodel: claude_2, few_shot: 3, hypothesis_type: final, average_acc: 0.89\\nmodel: llama_2_7b, few_shot: 0, hypothesis_type: init, average_acc: 0.37666666666666665\\nmodel: llama_2_7b, few_shot: 0, hypothesis_type: final, average_acc: 0.2733333333333333\\nmodel: llama_2_7b, few_shot: 3, hypothesis_type: init, average_acc: 0.3733333333333333\\nmodel: llama_2_7b, few_shot: 3, hypothesis_type: final, average_acc: 0.3233333333333333\\nmodel: turbo35_0613, few_shot: 0, hypothesis_type: init, average_acc: 0.47333333333333333\\nmodel: turbo35_0613, few_shot: 0, hypothesis_type: final, average_acc: 0.4566666666666666\\nmodel: turbo35_0613, few_shot: 3, hypothesis_type: init, average_acc: 0.5133333333333333\\nmodel: turbo35_0613, few_shot: 3, hypothesis_type: final, average_acc: 0.5933333333333334\\n'"
      ]
     },
     "execution_count": 4,
     "metadata": {},
     "output_type": "execute_result"
    }
   ],
   "source": [
    "# convert to table\n",
    "\"\"\"\n",
    "model: claude_2, few_shot: 0, hypothesis_type: init, average_acc: 0.9133333333333334\n",
    "model: claude_2, few_shot: 0, hypothesis_type: final, average_acc: 0.9133333333333334\n",
    "model: claude_2, few_shot: 3, hypothesis_type: init, average_acc: 0.89\n",
    "model: claude_2, few_shot: 3, hypothesis_type: final, average_acc: 0.89\n",
    "model: llama_2_7b, few_shot: 0, hypothesis_type: init, average_acc: 0.37666666666666665\n",
    "model: llama_2_7b, few_shot: 0, hypothesis_type: final, average_acc: 0.2733333333333333\n",
    "model: llama_2_7b, few_shot: 3, hypothesis_type: init, average_acc: 0.3733333333333333\n",
    "model: llama_2_7b, few_shot: 3, hypothesis_type: final, average_acc: 0.3233333333333333\n",
    "model: turbo35_0613, few_shot: 0, hypothesis_type: init, average_acc: 0.47333333333333333\n",
    "model: turbo35_0613, few_shot: 0, hypothesis_type: final, average_acc: 0.4566666666666666\n",
    "model: turbo35_0613, few_shot: 3, hypothesis_type: init, average_acc: 0.5133333333333333\n",
    "model: turbo35_0613, few_shot: 3, hypothesis_type: final, average_acc: 0.5933333333333334\n",
    "\"\"\"\n",
    "\n",
    "# convert to table\n"
   ]
  }
 ],
 "metadata": {
  "kernelspec": {
   "display_name": "Python 3",
   "language": "python",
   "name": "python3"
  },
  "language_info": {
   "codemirror_mode": {
    "name": "ipython",
    "version": 3
   },
   "file_extension": ".py",
   "mimetype": "text/x-python",
   "name": "python",
   "nbconvert_exporter": "python",
   "pygments_lexer": "ipython3",
   "version": "3.7.0"
  }
 },
 "nbformat": 4,
 "nbformat_minor": 2
}
